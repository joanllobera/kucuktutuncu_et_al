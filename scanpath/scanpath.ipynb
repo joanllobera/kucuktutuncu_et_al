{
 "cells": [
  {
   "cell_type": "code",
   "execution_count": 1,
   "id": "308769ea",
   "metadata": {
    "_execution_state": "idle",
    "_uuid": "051d70d956493feee0c6d64651c6a088724dca2a",
    "papermill": {
     "duration": 1.267901,
     "end_time": "2023-12-10T11:39:05.194979",
     "exception": false,
     "start_time": "2023-12-10T11:39:03.927078",
     "status": "completed"
    },
    "tags": []
   },
   "outputs": [
    {
     "name": "stderr",
     "output_type": "stream",
     "text": [
      "Registered S3 methods overwritten by 'ggplot2':\n",
      "  method         from \n",
      "  [.quosures     rlang\n",
      "  c.quosures     rlang\n",
      "  print.quosures rlang\n",
      "Registered S3 method overwritten by 'rvest':\n",
      "  method            from\n",
      "  read_xml.response xml2\n",
      "-- Attaching packages --------------------------------------- tidyverse 1.2.1 --\n",
      "v ggplot2 3.1.1       v purrr   0.3.2  \n",
      "v tibble  2.1.1       v dplyr   0.8.0.1\n",
      "v tidyr   0.8.3       v stringr 1.4.0  \n",
      "v readr   1.3.1       v forcats 0.4.0  \n",
      "-- Conflicts ------------------------------------------ tidyverse_conflicts() --\n",
      "x dplyr::filter() masks stats::filter()\n",
      "x dplyr::lag()    masks stats::lag()\n"
     ]
    }
   ],
   "source": [
    "# This R environment comes with many helpful analytics packages installed\n",
    "# It is defined by the kaggle/rstats Docker image: https://github.com/kaggle/docker-rstats\n",
    "# For example, here's a helpful package to load\n",
    "\n",
    "library(tidyverse) # metapackage of all tidyverse packages\n",
    "\n",
    "# Input data files are available in the read-only \"../input/\" directory\n",
    "# For example, running this (by clicking run or pressing Shift+Enter) will list all files under the input directory\n",
    "\n",
    "#list.files(path = \"../input\")\n",
    "\n",
    "# You can write up to 20GB to the current directory (/kaggle/working/) that gets preserved as output when you create a version using \"Save & Run All\" \n",
    "# You can also write temporary files to /kaggle/temp/, but they won't be saved outside of the current session"
   ]
  },
  {
   "cell_type": "code",
   "execution_count": 2,
   "id": "4756a039-8b1d-4600-b5dc-51f9df1f0143",
   "metadata": {},
   "outputs": [
    {
     "data": {
      "text/html": [
       "<ol class=list-inline>\n",
       "\t<li>'data'</li>\n",
       "\t<li>'scanpath.ipynb'</li>\n",
       "</ol>\n"
      ],
      "text/latex": [
       "\\begin{enumerate*}\n",
       "\\item 'data'\n",
       "\\item 'scanpath.ipynb'\n",
       "\\end{enumerate*}\n"
      ],
      "text/markdown": [
       "1. 'data'\n",
       "2. 'scanpath.ipynb'\n",
       "\n",
       "\n"
      ],
      "text/plain": [
       "[1] \"data\"           \"scanpath.ipynb\""
      ]
     },
     "metadata": {},
     "output_type": "display_data"
    }
   ],
   "source": [
    "list.files(path = \".\")"
   ]
  },
  {
   "cell_type": "code",
   "execution_count": 3,
   "id": "32290850",
   "metadata": {
    "papermill": {
     "duration": 0.078138,
     "end_time": "2023-12-10T11:39:05.282932",
     "exception": false,
     "start_time": "2023-12-10T11:39:05.204794",
     "status": "completed"
    },
    "tags": []
   },
   "outputs": [],
   "source": [
    "# pq <- read.csv(\"/kaggle/input/presence-questionnaire/presence_questionnaire.csv\", comment.char=\"#\")\n",
    "pq <- read.csv(\"../presence_questionnaire.csv\", comment.char=\",\")"
   ]
  },
  {
   "cell_type": "code",
   "execution_count": 4,
   "id": "1f55c84b",
   "metadata": {
    "papermill": {
     "duration": 0.042716,
     "end_time": "2023-12-10T11:39:05.335613",
     "exception": false,
     "start_time": "2023-12-10T11:39:05.292897",
     "status": "completed"
    },
    "tags": []
   },
   "outputs": [
    {
     "data": {
      "text/html": [
       "<ol class=list-inline>\n",
       "\t<li>'100'</li>\n",
       "\t<li>'101'</li>\n",
       "\t<li>'102'</li>\n",
       "\t<li>'103'</li>\n",
       "\t<li>'104'</li>\n",
       "\t<li>'105'</li>\n",
       "\t<li>'106'</li>\n",
       "\t<li>'107'</li>\n",
       "\t<li>'108'</li>\n",
       "\t<li>'109'</li>\n",
       "\t<li>'110'</li>\n",
       "\t<li>'111'</li>\n",
       "\t<li>'112'</li>\n",
       "\t<li>'113'</li>\n",
       "\t<li>'114'</li>\n",
       "\t<li>'115'</li>\n",
       "\t<li>'116'</li>\n",
       "\t<li>'117'</li>\n",
       "\t<li>'118'</li>\n",
       "\t<li>'119'</li>\n",
       "\t<li>'120'</li>\n",
       "\t<li>'121'</li>\n",
       "\t<li>'122'</li>\n",
       "\t<li>'123'</li>\n",
       "\t<li>'124'</li>\n",
       "\t<li>'126'</li>\n",
       "\t<li>'127'</li>\n",
       "\t<li>'128'</li>\n",
       "\t<li>'129'</li>\n",
       "</ol>\n"
      ],
      "text/latex": [
       "\\begin{enumerate*}\n",
       "\\item '100'\n",
       "\\item '101'\n",
       "\\item '102'\n",
       "\\item '103'\n",
       "\\item '104'\n",
       "\\item '105'\n",
       "\\item '106'\n",
       "\\item '107'\n",
       "\\item '108'\n",
       "\\item '109'\n",
       "\\item '110'\n",
       "\\item '111'\n",
       "\\item '112'\n",
       "\\item '113'\n",
       "\\item '114'\n",
       "\\item '115'\n",
       "\\item '116'\n",
       "\\item '117'\n",
       "\\item '118'\n",
       "\\item '119'\n",
       "\\item '120'\n",
       "\\item '121'\n",
       "\\item '122'\n",
       "\\item '123'\n",
       "\\item '124'\n",
       "\\item '126'\n",
       "\\item '127'\n",
       "\\item '128'\n",
       "\\item '129'\n",
       "\\end{enumerate*}\n"
      ],
      "text/markdown": [
       "1. '100'\n",
       "2. '101'\n",
       "3. '102'\n",
       "4. '103'\n",
       "5. '104'\n",
       "6. '105'\n",
       "7. '106'\n",
       "8. '107'\n",
       "9. '108'\n",
       "10. '109'\n",
       "11. '110'\n",
       "12. '111'\n",
       "13. '112'\n",
       "14. '113'\n",
       "15. '114'\n",
       "16. '115'\n",
       "17. '116'\n",
       "18. '117'\n",
       "19. '118'\n",
       "20. '119'\n",
       "21. '120'\n",
       "22. '121'\n",
       "23. '122'\n",
       "24. '123'\n",
       "25. '124'\n",
       "26. '126'\n",
       "27. '127'\n",
       "28. '128'\n",
       "29. '129'\n",
       "\n",
       "\n"
      ],
      "text/plain": [
       " [1] \"100\" \"101\" \"102\" \"103\" \"104\" \"105\" \"106\" \"107\" \"108\" \"109\" \"110\" \"111\"\n",
       "[13] \"112\" \"113\" \"114\" \"115\" \"116\" \"117\" \"118\" \"119\" \"120\" \"121\" \"122\" \"123\"\n",
       "[25] \"124\" \"126\" \"127\" \"128\" \"129\""
      ]
     },
     "metadata": {},
     "output_type": "display_data"
    }
   ],
   "source": [
    "list.files(\"./data\")"
   ]
  },
  {
   "cell_type": "code",
   "execution_count": 5,
   "id": "49a65d35-404a-417b-92a6-aa2b429179ab",
   "metadata": {},
   "outputs": [
    {
     "data": {
      "text/html": [],
      "text/latex": [],
      "text/markdown": [],
      "text/plain": [
       "character(0)"
      ]
     },
     "metadata": {},
     "output_type": "display_data"
    }
   ],
   "source": [
    "child_dirs <- list.files(\"./data\")"
   ]
  },
  {
   "cell_type": "code",
   "execution_count": 17,
   "id": "94f061a4-3844-4246-b5fc-7997333aaa21",
   "metadata": {},
   "outputs": [],
   "source": [
    "child_dir = child_dirs[1]\n",
    "f <- list.files(paste0(\"./data/\",child_dir))\n",
    "file_path <- f[grep(\"\\\\.csv$\", f)]\n",
    "g <- paste0(\"./data/\",child_dir,\"/\",file_path)"
   ]
  },
  {
   "cell_type": "code",
   "execution_count": 23,
   "id": "802b6e7e-6cca-4662-87b0-8b3a31523eb6",
   "metadata": {},
   "outputs": [
    {
     "data": {
      "text/html": [
       "'./data/100/1.17.2023_2.00.26_PM.csv'"
      ],
      "text/latex": [
       "'./data/100/1.17.2023\\_2.00.26\\_PM.csv'"
      ],
      "text/markdown": [
       "'./data/100/1.17.2023_2.00.26_PM.csv'"
      ],
      "text/plain": [
       "[1] \"./data/100/1.17.2023_2.00.26_PM.csv\""
      ]
     },
     "metadata": {},
     "output_type": "display_data"
    }
   ],
   "source": [
    "g"
   ]
  },
  {
   "cell_type": "code",
   "execution_count": 19,
   "id": "6fefeaee",
   "metadata": {
    "papermill": {
     "duration": 0.040112,
     "end_time": "2023-12-10T11:39:05.386157",
     "exception": false,
     "start_time": "2023-12-10T11:39:05.346045",
     "status": "completed"
    },
    "tags": []
   },
   "outputs": [],
   "source": [
    "getAllEntropies <- function(ntime,nstates){\n",
    "  #this computes an array of entropies for each individual\n",
    "  #ntime is the number of time divisions, noting that the sampling\n",
    "  #rate for eye tracking is 50Hz\n",
    "  #nstates is the number of divisions of the x-target into segments\n",
    "  #covering the 360 degrees in front of the participant\n",
    "  \n",
    "  \n",
    "  # List all child directories within the parent directory\n",
    "  # child_dirs <- list.files(\"/kaggle/input/scanpath-data\")\n",
    "  child_dirs <- list.files(\"./data\")\n",
    "  #the rows are the participants and the columms the successive entropies\n",
    "  allEntropy <- matrix(0,nrow=length(child_dirs),ncol=ntime)\n",
    "  \n",
    "  s <- seq(-pi,0,pi/nstates) #this divides the space in front (the x axis)\n",
    "  s <- cos(s) #the x-coordinate\n",
    "  ind <- 1 #which individual\n",
    "  \n",
    "  timelastchange <- vector() #time of last change of configuration\n",
    "  #this stores the index into the segmented time period for the last change\n",
    "  indexlastchange <- vector()\n",
    "  \n",
    "  # Loop over each child directory\n",
    "  for (child_dir in child_dirs) {\n",
    "    #cat(ind,\" \",child_dir,\"\\n\")\n",
    "    \n",
    "    # Change the working directory to the child directory\n",
    "    #setwd(child_dir)\n",
    "    \n",
    "    # Find the file path\n",
    "    #f <- list.files()\n",
    "    #f <- list.files(paste0(\"/kaggle/input/scanpath-data/\",child_dir))\n",
    "    f <- list.files(paste0(\"./data/\",child_dir))\n",
    "    file_path <- f[grep(\"\\\\.csv$\", f)]\n",
    "\n",
    "    # Check if the file exists in the child directory\n",
    "    #g <- paste0(\"/kaggle/input/scanpath-data/\",child_dir,\"/\",file_path)\n",
    "    g <- paste0(\"./data/\",child_dir,\"/\",file_path)\n",
    "    if (file.exists(g)) {\n",
    "      \n",
    "      # Read the file \n",
    "      d <- read.csv(g) \n",
    "      x <- d$EyeTrackingTarget_X \n",
    "      m <- length(x)\n",
    "      t <- round(seq(1,m,(m/ntime)))\n",
    "      t[length(t)+1] <- m\n",
    "      #intervals are t[i]:t[i+1], i=1,...,nseg-1\n",
    "      for(j in 1:(length(t)-1)){\n",
    "        allEntropy[ind,j] <- entropy(s,x[t[j]:t[j+1]])\n",
    "      }\n",
    "      \n",
    "      lastchange <- lastChange(d)\n",
    "      #actual time of the last change\n",
    "      timelastchange[ind] <- d$Seconds[lastchange]- d$Seconds[1]\n",
    "      #indexlastchange[ind] <- findInterval(timelastchange[ind],t) + 1\n",
    "      indexlastchange[ind] <- findInterval(round(lastchange),t)\n",
    "      \n",
    "    } else {\n",
    "      warning(paste(\"File\", file_path, \"does not exist in directory\", child_dir))\n",
    "    }\n",
    "    \n",
    "    # Change back to the parent directory\n",
    "    ind = ind+1\n",
    "    setwd(\"..\")\n",
    "  }\n",
    "  #allEntropy <- allEntropy[,-ntime]\n",
    "  return(list(allEntropy = allEntropy,timelastchange =timelastchange, indexlastchange=indexlastchange))\n",
    "  \n",
    "}"
   ]
  },
  {
   "cell_type": "code",
   "execution_count": 20,
   "id": "82a09430",
   "metadata": {
    "papermill": {
     "duration": 0.031151,
     "end_time": "2023-12-10T11:39:05.427357",
     "exception": false,
     "start_time": "2023-12-10T11:39:05.396206",
     "status": "completed"
    },
    "tags": []
   },
   "outputs": [],
   "source": [
    "entropy <- function(states,x){\n",
    "  #states is a sequence of intervals states[1], states[2] corresponding to segments \n",
    "  #on the target x axis dividing the scene in front.\n",
    "  #x is a sequence of x values in the range -1 to 1 corresponding to observed\n",
    "  #target eye movements\n",
    "  \n",
    "  #finds the frequency distribution of x by the segments s\n",
    "  freq <- hist(x, breaks = states, plot = FALSE)\n",
    "  p <- freq$counts/sum(freq$counts) #the probabilities\n",
    "   \n",
    "  return( -sum(ifelse(p == 0, 0, p * log2(p))) )\n",
    "\n",
    "}"
   ]
  },
  {
   "cell_type": "code",
   "execution_count": 21,
   "id": "66461e16",
   "metadata": {
    "papermill": {
     "duration": 0.030548,
     "end_time": "2023-12-10T11:39:05.468067",
     "exception": false,
     "start_time": "2023-12-10T11:39:05.437519",
     "status": "completed"
    },
    "tags": []
   },
   "outputs": [],
   "source": [
    "lastChange <- function(d){\n",
    "  \n",
    "  data_matrix <- cbind(d$Stereopsis, d[[\"6DoF\"]], d$SpatialAudio, d$HighResolution, d$AltColour)\n",
    "  \n",
    "  # Convert each row to a binary number\n",
    "  binary_numbers <- apply(data_matrix, 1, function(row) {\n",
    "    sum(2^(which(rev(row) == 1) - 1))\n",
    "  })\n",
    "  \n",
    "  # Find the index of the last change\n",
    "  last_change_index <- max(which(c(TRUE, diff(binary_numbers) != 0)))\n",
    "  \n",
    "  return(last_change_index)\n",
    "}"
   ]
  },
  {
   "cell_type": "code",
   "execution_count": 22,
   "id": "1bb59f42",
   "metadata": {
    "papermill": {
     "duration": 39.024421,
     "end_time": "2023-12-10T11:39:44.503403",
     "exception": false,
     "start_time": "2023-12-10T11:39:05.478982",
     "status": "completed"
    },
    "tags": []
   },
   "outputs": [
    {
     "name": "stderr",
     "output_type": "stream",
     "text": [
      "Warning message in getAllEntropies(30, 18):\n",
      "Warning message in getAllEntropies(30, 18):\n",
      "Warning message in getAllEntropies(30, 18):\n",
      "Warning message in getAllEntropies(30, 18):\n",
      "Warning message in getAllEntropies(30, 18):\n",
      "Warning message in getAllEntropies(30, 18):\n",
      "Warning message in getAllEntropies(30, 18):\n",
      "Warning message in getAllEntropies(30, 18):\n",
      "Warning message in getAllEntropies(30, 18):\n",
      "Warning message in getAllEntropies(30, 18):\n",
      "Warning message in getAllEntropies(30, 18):\n",
      "Warning message in getAllEntropies(30, 18):\n",
      "Warning message in getAllEntropies(30, 18):\n",
      "Warning message in getAllEntropies(30, 18):\n",
      "Warning message in getAllEntropies(30, 18):\n",
      "Warning message in getAllEntropies(30, 18):\n",
      "Warning message in getAllEntropies(30, 18):\n",
      "Warning message in getAllEntropies(30, 18):\n",
      "Warning message in getAllEntropies(30, 18):\n",
      "Warning message in getAllEntropies(30, 18):\n",
      "Warning message in getAllEntropies(30, 18):\n",
      "Warning message in getAllEntropies(30, 18):\n",
      "Warning message in getAllEntropies(30, 18):\n",
      "Warning message in getAllEntropies(30, 18):\n",
      "Warning message in getAllEntropies(30, 18):\n",
      "Warning message in getAllEntropies(30, 18):\n",
      "Warning message in getAllEntropies(30, 18):\n",
      "Warning message in getAllEntropies(30, 18):\n",
      "\"File  does not exist in directory 129\""
     ]
    }
   ],
   "source": [
    "a <- getAllEntropies(30,18)"
   ]
  },
  {
   "cell_type": "code",
   "execution_count": null,
   "id": "9455386e-8b54-4b30-a1f3-2fe4f6afe3a5",
   "metadata": {},
   "outputs": [],
   "source": []
  },
  {
   "cell_type": "code",
   "execution_count": 9,
   "id": "7b9845e2",
   "metadata": {
    "papermill": {
     "duration": 0.047687,
     "end_time": "2023-12-10T11:39:44.561434",
     "exception": false,
     "start_time": "2023-12-10T11:39:44.513747",
     "status": "completed"
    },
    "tags": []
   },
   "outputs": [
    {
     "data": {
      "text/plain": [
       "\n",
       "\tPearson's product-moment correlation\n",
       "\n",
       "data:  t and et\n",
       "t = -0.045895, df = 28, p-value = 0.9637\n",
       "alternative hypothesis: true correlation is not equal to 0\n",
       "95 percent confidence interval:\n",
       " -0.3677931  0.3526982\n",
       "sample estimates:\n",
       "         cor \n",
       "-0.008673093 \n"
      ]
     },
     "metadata": {},
     "output_type": "display_data"
    }
   ],
   "source": [
    "#note to plot the mean over all participants of entropies by time use\n",
    "t <- seq(1,30)\n",
    "et <- apply(a$allEntropy,2,mean)\n",
    "cor.test(t,et)"
   ]
  },
  {
   "cell_type": "code",
   "execution_count": 10,
   "id": "b3ee0b57",
   "metadata": {
    "papermill": {
     "duration": 0.275265,
     "end_time": "2023-12-10T11:39:44.846825",
     "exception": false,
     "start_time": "2023-12-10T11:39:44.571560",
     "status": "completed"
    },
    "tags": []
   },
   "outputs": [
    {
     "data": {
      "image/png": "[encoded data removed]",
      "text/plain": [
       "plot without title"
      ]
     },
     "metadata": {},
     "output_type": "display_data"
    }
   ],
   "source": [
    "plot(t,et,xlab=\"time segment\",ylab = \"median entropy\",pch=16)"
   ]
  },
  {
   "cell_type": "code",
   "execution_count": 11,
   "id": "b8bd22cd",
   "metadata": {
    "papermill": {
     "duration": 0.031701,
     "end_time": "2023-12-10T11:39:44.889328",
     "exception": false,
     "start_time": "2023-12-10T11:39:44.857627",
     "status": "completed"
    },
    "tags": []
   },
   "outputs": [],
   "source": [
    "entropyByLastChange <- function(a){\n",
    "  #a is the result of getAllEntropies\n",
    "  #here we save the entropy corresponding to the last change\n",
    "  w <- vector()\n",
    "  n <- dim(a$allEntropy)\n",
    "  n <- n[1]\n",
    "  \n",
    "  for(i in 1:n[1]){\n",
    "    w[i] <- a$allEntropy[i,a$indexlastchange[i]]\n",
    "  }\n",
    "  return(w)\n",
    "  \n",
    "}"
   ]
  },
  {
   "cell_type": "code",
   "execution_count": 12,
   "id": "38434b04",
   "metadata": {
    "papermill": {
     "duration": 0.042671,
     "end_time": "2023-12-10T11:39:44.943294",
     "exception": false,
     "start_time": "2023-12-10T11:39:44.900623",
     "status": "completed"
    },
    "tags": []
   },
   "outputs": [],
   "source": [
    "elast <- entropyByLastChange(a)"
   ]
  },
  {
   "cell_type": "code",
   "execution_count": 13,
   "id": "1a2efb11",
   "metadata": {
    "papermill": {
     "duration": 0.096946,
     "end_time": "2023-12-10T11:39:45.050939",
     "exception": false,
     "start_time": "2023-12-10T11:39:44.953993",
     "status": "completed"
    },
    "tags": []
   },
   "outputs": [
    {
     "ename": "ERROR",
     "evalue": "Error in matrix(data = c(pq$there, pq$reality, pq$place, pq$virtualplace), : 'data' doit être de type vecteur, il était 'NULL'\n",
     "output_type": "error",
     "traceback": [
      "Error in matrix(data = c(pq$there, pq$reality, pq$place, pq$virtualplace), : 'data' doit être de type vecteur, il était 'NULL'\nTraceback:\n",
      "1. matrix(data = c(pq$there, pq$reality, pq$place, pq$virtualplace), \n .     nrow = 29, ncol = 4)"
     ]
    }
   ],
   "source": [
    "PI <- matrix(data = c(pq$there,pq$reality,pq$place,pq$virtualplace),nrow=29,ncol=4)\n",
    "PI_median <- apply(PI,1,median)"
   ]
  },
  {
   "cell_type": "code",
   "execution_count": null,
   "id": "659fa894",
   "metadata": {
    "papermill": {
     "duration": 0.114707,
     "end_time": "2023-12-10T11:39:45.176341",
     "exception": false,
     "start_time": "2023-12-10T11:39:45.061634",
     "status": "completed"
    },
    "tags": []
   },
   "outputs": [],
   "source": [
    "plot(PI_median,elast,xlab=\"PI_median\",ylab=\"entropy\",xlim=c(1,7), pch=16)"
   ]
  },
  {
   "cell_type": "code",
   "execution_count": null,
   "id": "f0dfd557",
   "metadata": {
    "papermill": {
     "duration": 0.074589,
     "end_time": "2023-12-10T11:39:45.262754",
     "exception": false,
     "start_time": "2023-12-10T11:39:45.188165",
     "status": "completed"
    },
    "tags": []
   },
   "outputs": [],
   "source": [
    "PI_median2 <- PI_median^2\n",
    "lm <- lm(elast ~ PI_median + PI_median2)\n",
    "summary(lm)\n",
    "\n",
    "cor.test(elast[PI_median>=3],PI_median[PI_median>=3])"
   ]
  },
  {
   "cell_type": "code",
   "execution_count": null,
   "id": "3d257daa",
   "metadata": {
    "papermill": {
     "duration": 398.204338,
     "end_time": "2023-12-10T11:46:23.478892",
     "exception": false,
     "start_time": "2023-12-10T11:39:45.274554",
     "status": "completed"
    },
    "tags": []
   },
   "outputs": [],
   "source": [
    "#Running 1000 times doesn't work on Kaggle, it takes too long.\n",
    "#Instead I will illustrate it with 10 times.\n",
    "#let's sample over the time periods and the number of states\n",
    "#the total time is 20 minutes so let's sample randomly\n",
    "\n",
    "\n",
    "e10 <- rep(0,29)\n",
    "N <- 10\n",
    "for(i in 1:N) {\n",
    "  ntime <- round(runif(1,5,40))\n",
    "  nstates <- round(runif(1,3,30))\n",
    "  a <- getAllEntropies(ntime,nstates)\n",
    "  e10 <- e10 + entropyByLastChange(a)\n",
    "  cat(\"i = \",i,\" \",\"ntime = \",ntime,\"nstates = \",nstates, \"\\n\")\n",
    "  flush.console()\n",
    "}\n",
    "e10 <- e10/N\n"
   ]
  },
  {
   "cell_type": "code",
   "execution_count": null,
   "id": "4cf5717d",
   "metadata": {
    "papermill": {
     "duration": 0.102779,
     "end_time": "2023-12-10T11:46:23.598670",
     "exception": false,
     "start_time": "2023-12-10T11:46:23.495891",
     "status": "completed"
    },
    "tags": []
   },
   "outputs": [],
   "source": [
    "plot(PI_median,e10,xlim=c(1,7),ylab=\"median entropy\", pch=16)\n"
   ]
  },
  {
   "cell_type": "code",
   "execution_count": null,
   "id": "18e67741",
   "metadata": {
    "papermill": {
     "duration": 2.182548,
     "end_time": "2023-12-10T11:46:25.799085",
     "exception": false,
     "start_time": "2023-12-10T11:46:23.616537",
     "status": "completed"
    },
    "tags": []
   },
   "outputs": [],
   "source": [
    "#Stan analysis\n",
    "library(\"rstan\")\n",
    "options(mc.cores = parallel::detectCores())\n",
    "rstan_options(auto_write = TRUE)"
   ]
  },
  {
   "cell_type": "code",
   "execution_count": null,
   "id": "263bc2b6",
   "metadata": {
    "papermill": {
     "duration": 0.037396,
     "end_time": "2023-12-10T11:46:25.850959",
     "exception": false,
     "start_time": "2023-12-10T11:46:25.813563",
     "status": "completed"
    },
    "tags": []
   },
   "outputs": [],
   "source": [
    "mydata <- list(\n",
    "            N = length(PI_median),\n",
    "            pres = PI_median,\n",
    "            entropy = e10\n",
    ")\n"
   ]
  },
  {
   "cell_type": "code",
   "execution_count": null,
   "id": "708177fd",
   "metadata": {
    "papermill": {
     "duration": 0.037549,
     "end_time": "2023-12-10T11:46:25.903204",
     "exception": false,
     "start_time": "2023-12-10T11:46:25.865655",
     "status": "completed"
    },
    "tags": []
   },
   "outputs": [],
   "source": [
    "stan_model <- \"\n",
    "data {\n",
    "  int<lower=0> N;       // Number of data points\n",
    "  vector[N] pres;       // Independent variable\n",
    "  vector[N] entropy;    // Dependent variable\n",
    "}\n",
    "\n",
    "parameters {\n",
    "  vector[3] b;                 \n",
    "  real<lower=0> sigma;      \n",
    "  real<lower=1> v;      //degrees of freedom\n",
    "}\n",
    "\n",
    "model {\n",
    "  // Priors\n",
    "  b ~ normal(0, 10);\n",
    "  sigma ~ gamma(2,0.1);\n",
    "  v ~ gamma(2,0.1);\n",
    "\n",
    "  // Likelihood\n",
    "  for(i in 1:N) {\n",
    "      entropy[i] ~ student_t(v, b[1] + b[2]*pres[i] + b[3]*(pres[i]^2), sigma);\n",
    "  }\n",
    "}\n",
    "\n",
    "generated quantities {\n",
    "  vector[N] entropy_new;\n",
    "  vector[N] log_lik_entropy;\n",
    "  real m;\n",
    "  \n",
    "  for(i in 1:N){\n",
    "    m = b[1] + b[2]*pres[i] + b[3]*(pres[i]^2);\n",
    "    entropy_new[i] = student_t_rng(v,m, sigma);\n",
    "    log_lik_entropy[i] = student_t_lpdf(entropy[i]|v,m, sigma);\n",
    "  }\n",
    "}\n",
    "\""
   ]
  },
  {
   "cell_type": "code",
   "execution_count": null,
   "id": "97ca7b90",
   "metadata": {
    "papermill": {
     "duration": 135.516593,
     "end_time": "2023-12-10T11:48:41.434136",
     "exception": false,
     "start_time": "2023-12-10T11:46:25.917543",
     "status": "completed"
    },
    "tags": []
   },
   "outputs": [],
   "source": [
    "fit <- stan (model_code = stan_model, # Stan program\n",
    "              data = mydata, # named list of data\n",
    "              chains = 4, # number of Markov chains\n",
    "              iter = 3000, # total number of iterations per chain\n",
    "              cores = 4,\n",
    "              #control = list(max_treedepth = 12),\n",
    "              seed=54321)\n"
   ]
  },
  {
   "cell_type": "code",
   "execution_count": null,
   "id": "14f140d7",
   "metadata": {
    "papermill": {
     "duration": 0.412552,
     "end_time": "2023-12-10T11:48:41.864126",
     "exception": false,
     "start_time": "2023-12-10T11:48:41.451574",
     "status": "completed"
    },
    "tags": []
   },
   "outputs": [],
   "source": [
    "print(fit, pars=c(\"b\",\"sigma\",\"v\"),probs=c(.025,.975))"
   ]
  },
  {
   "cell_type": "code",
   "execution_count": null,
   "id": "4370c880",
   "metadata": {
    "papermill": {
     "duration": 0.109224,
     "end_time": "2023-12-10T11:48:41.987492",
     "exception": false,
     "start_time": "2023-12-10T11:48:41.878268",
     "status": "completed"
    },
    "tags": []
   },
   "outputs": [],
   "source": [
    "e <- rstan::extract(fit)"
   ]
  },
  {
   "cell_type": "code",
   "execution_count": null,
   "id": "706e8c63",
   "metadata": {
    "papermill": {
     "duration": 0.058223,
     "end_time": "2023-12-10T11:48:42.061077",
     "exception": false,
     "start_time": "2023-12-10T11:48:42.002854",
     "status": "completed"
    },
    "tags": []
   },
   "outputs": [],
   "source": [
    "#probabilities of the parameters being positive\n",
    "mean(e$b[,1]>0)\n",
    "mean(e$b[,2]>0)\n",
    "mean(e$b[,3]>0)"
   ]
  },
  {
   "cell_type": "code",
   "execution_count": null,
   "id": "10f782d4",
   "metadata": {
    "papermill": {
     "duration": 0.043183,
     "end_time": "2023-12-10T11:48:42.119579",
     "exception": false,
     "start_time": "2023-12-10T11:48:42.076396",
     "status": "completed"
    },
    "tags": []
   },
   "outputs": [],
   "source": [
    "#find the probability that the degrees of freedom might be less than 30\n",
    "mean(e$v < 30)"
   ]
  },
  {
   "cell_type": "code",
   "execution_count": null,
   "id": "65f92dc1",
   "metadata": {
    "papermill": {
     "duration": 0.044474,
     "end_time": "2023-12-10T11:48:42.178822",
     "exception": false,
     "start_time": "2023-12-10T11:48:42.134348",
     "status": "completed"
    },
    "tags": []
   },
   "outputs": [],
   "source": [
    "#obtain the means of the parameters forming the quadratic\n",
    "b0 <- mean(e$b[,1])\n",
    "b1 <- mean(e$b[,2])\n",
    "b2 <- mean(e$b[,3])"
   ]
  },
  {
   "cell_type": "code",
   "execution_count": null,
   "id": "0ce21b01",
   "metadata": {
    "papermill": {
     "duration": 0.064618,
     "end_time": "2023-12-10T11:48:42.258095",
     "exception": false,
     "start_time": "2023-12-10T11:48:42.193477",
     "status": "completed"
    },
    "tags": []
   },
   "outputs": [],
   "source": [
    "#now plot the quadratic over the data points\n",
    "p <- seq(1,7,0.1)\n",
    "ent <- b0 + b1*p + b2*(p^2)"
   ]
  },
  {
   "cell_type": "code",
   "execution_count": null,
   "id": "a8582e3b",
   "metadata": {
    "papermill": {
     "duration": 0.120292,
     "end_time": "2023-12-10T11:48:42.393900",
     "exception": false,
     "start_time": "2023-12-10T11:48:42.273608",
     "status": "completed"
    },
    "tags": []
   },
   "outputs": [],
   "source": [
    "sz <- 1.5\n",
    "plot(p, ent, type=\"l\", ylim=c(1,3.5), xlim=c(1,7), xlab=\"\", ylab=\"\", \n",
    "     cex.lab=sz, cex.axis=sz)\n",
    "par(new=TRUE)\n",
    "plot(PI_median, e10, ylim=c(1,3.5), xlim=c(1,7), ylab=\"entropy\", \n",
    "     pch=16, cex.lab=sz, cex.axis=sz)\n"
   ]
  },
  {
   "cell_type": "code",
   "execution_count": null,
   "id": "bfb24296",
   "metadata": {
    "papermill": {
     "duration": 0.114942,
     "end_time": "2023-12-10T11:48:42.525612",
     "exception": false,
     "start_time": "2023-12-10T11:48:42.410670",
     "status": "completed"
    },
    "tags": []
   },
   "outputs": [],
   "source": [
    "#plot observed against predicted posterior distribution means\n",
    "plot(e10,apply(e$entropy_new,2,mean))\n",
    "cor.test(e10,apply(e$entropy_new,2,mean))"
   ]
  },
  {
   "cell_type": "code",
   "execution_count": null,
   "id": "6b68156c",
   "metadata": {
    "papermill": {
     "duration": 0.038308,
     "end_time": "2023-12-10T11:48:42.581426",
     "exception": false,
     "start_time": "2023-12-10T11:48:42.543118",
     "status": "completed"
    },
    "tags": []
   },
   "outputs": [],
   "source": [
    "loo_summary <- function(fit, name) {\n",
    "\n",
    "  log_lik <- extract_log_lik(fit, merge_chains = FALSE,parameter_name=name)\n",
    "  r_eff <- relative_eff(exp(log_lik))\n",
    "  loo <- loo(log_lik, r_eff = r_eff, cores = 2)\n",
    "  return(loo)\n",
    "}"
   ]
  },
  {
   "cell_type": "code",
   "execution_count": null,
   "id": "3837c35e",
   "metadata": {
    "papermill": {
     "duration": 0.80216,
     "end_time": "2023-12-10T11:48:43.401145",
     "exception": false,
     "start_time": "2023-12-10T11:48:42.598985",
     "status": "completed"
    },
    "tags": []
   },
   "outputs": [],
   "source": [
    "library(\"loo\")\n",
    "loo <- loo_summary(fit,\"log_lik_entropy\")\n",
    "loo"
   ]
  }
 ],
 "metadata": {
  "kaggle": {
   "accelerator": "none",
   "dataSources": [
    {
     "datasetId": 4137439,
     "sourceId": 7162885,
     "sourceType": "datasetVersion"
    },
    {
     "datasetId": 4137455,
     "sourceId": 7162911,
     "sourceType": "datasetVersion"
    }
   ],
   "dockerImageVersionId": 30618,
   "isGpuEnabled": false,
   "isInternetEnabled": true,
   "language": "r",
   "sourceType": "notebook"
  },
  "kernelspec": {
   "display_name": "R",
   "language": "R",
   "name": "ir"
  },
  "language_info": {
   "codemirror_mode": "r",
   "file_extension": ".r",
   "mimetype": "text/x-r-source",
   "name": "R",
   "pygments_lexer": "r",
   "version": "3.6.1"
  },
  "papermill": {
   "default_parameters": {},
   "duration": 583.389958,
   "end_time": "2023-12-10T11:48:43.646060",
   "environment_variables": {},
   "exception": null,
   "input_path": "__notebook__.ipynb",
   "output_path": "__notebook__.ipynb",
   "parameters": {},
   "start_time": "2023-12-10T11:39:00.256102",
   "version": "2.5.0"
  }
 },
 "nbformat": 4,
 "nbformat_minor": 5
}
