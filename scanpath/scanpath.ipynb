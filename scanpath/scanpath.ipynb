{
 "cells": [
  {
   "cell_type": "code",
   "execution_count": 1,
   "id": "308769ea",
   "metadata": {
    "_execution_state": "idle",
    "_uuid": "051d70d956493feee0c6d64651c6a088724dca2a",
    "execution": {
     "iopub.execute_input": "2023-12-10T11:39:03.942108Z",
     "iopub.status.busy": "2023-12-10T11:39:03.939805Z",
     "iopub.status.idle": "2023-12-10T11:39:05.192244Z",
     "shell.execute_reply": "2023-12-10T11:39:05.190299Z"
    },
    "papermill": {
     "duration": 1.267901,
     "end_time": "2023-12-10T11:39:05.194979",
     "exception": false,
     "start_time": "2023-12-10T11:39:03.927078",
     "status": "completed"
    },
    "tags": []
   },
   "outputs": [
    {
     "name": "stderr",
     "output_type": "stream",
     "text": [
      "── \u001b[1mAttaching core tidyverse packages\u001b[22m ──────────────────────── tidyverse 2.0.0 ──\n",
      "\u001b[32m✔\u001b[39m \u001b[34mdplyr    \u001b[39m 1.1.4     \u001b[32m✔\u001b[39m \u001b[34mreadr    \u001b[39m 2.1.4\n",
      "\u001b[32m✔\u001b[39m \u001b[34mforcats  \u001b[39m 1.0.0     \u001b[32m✔\u001b[39m \u001b[34mstringr  \u001b[39m 1.5.1\n",
      "\u001b[32m✔\u001b[39m \u001b[34mggplot2  \u001b[39m 3.4.4     \u001b[32m✔\u001b[39m \u001b[34mtibble   \u001b[39m 3.2.1\n",
      "\u001b[32m✔\u001b[39m \u001b[34mlubridate\u001b[39m 1.9.3     \u001b[32m✔\u001b[39m \u001b[34mtidyr    \u001b[39m 1.3.0\n",
      "\u001b[32m✔\u001b[39m \u001b[34mpurrr    \u001b[39m 1.0.2     \n",
      "── \u001b[1mConflicts\u001b[22m ────────────────────────────────────────── tidyverse_conflicts() ──\n",
      "\u001b[31m✖\u001b[39m \u001b[34mdplyr\u001b[39m::\u001b[32mfilter()\u001b[39m masks \u001b[34mstats\u001b[39m::filter()\n",
      "\u001b[31m✖\u001b[39m \u001b[34mdplyr\u001b[39m::\u001b[32mlag()\u001b[39m    masks \u001b[34mstats\u001b[39m::lag()\n",
      "\u001b[36mℹ\u001b[39m Use the conflicted package (\u001b[3m\u001b[34m<http://conflicted.r-lib.org/>\u001b[39m\u001b[23m) to force all conflicts to become errors\n"
     ]
    },
    {
     "data": {
      "text/html": [
       "<style>\n",
       ".list-inline {list-style: none; margin:0; padding: 0}\n",
       ".list-inline>li {display: inline-block}\n",
       ".list-inline>li:not(:last-child)::after {content: \"\\00b7\"; padding: 0 .5ex}\n",
       "</style>\n",
       "<ol class=list-inline><li>'presence-questionnaire'</li><li>'scanpath-data'</li></ol>\n"
      ],
      "text/latex": [
       "\\begin{enumerate*}\n",
       "\\item 'presence-questionnaire'\n",
       "\\item 'scanpath-data'\n",
       "\\end{enumerate*}\n"
      ],
      "text/markdown": [
       "1. 'presence-questionnaire'\n",
       "2. 'scanpath-data'\n",
       "\n",
       "\n"
      ],
      "text/plain": [
       "[1] \"presence-questionnaire\" \"scanpath-data\"         "
      ]
     },
     "metadata": {},
     "output_type": "display_data"
    }
   ],
   "source": [
    "# This R environment comes with many helpful analytics packages installed\n",
    "# It is defined by the kaggle/rstats Docker image: https://github.com/kaggle/docker-rstats\n",
    "# For example, here's a helpful package to load\n",
    "\n",
    "library(tidyverse) # metapackage of all tidyverse packages\n",
    "\n",
    "# Input data files are available in the read-only \"../input/\" directory\n",
    "# For example, running this (by clicking run or pressing Shift+Enter) will list all files under the input directory\n",
    "\n",
    "list.files(path = \"../input\")\n",
    "\n",
    "# You can write up to 20GB to the current directory (/kaggle/working/) that gets preserved as output when you create a version using \"Save & Run All\" \n",
    "# You can also write temporary files to /kaggle/temp/, but they won't be saved outside of the current session"
   ]
  },
  {
   "cell_type": "code",
   "execution_count": 2,
   "id": "32290850",
   "metadata": {
    "execution": {
     "iopub.execute_input": "2023-12-10T11:39:05.250813Z",
     "iopub.status.busy": "2023-12-10T11:39:05.216570Z",
     "iopub.status.idle": "2023-12-10T11:39:05.280098Z",
     "shell.execute_reply": "2023-12-10T11:39:05.278079Z"
    },
    "papermill": {
     "duration": 0.078138,
     "end_time": "2023-12-10T11:39:05.282932",
     "exception": false,
     "start_time": "2023-12-10T11:39:05.204794",
     "status": "completed"
    },
    "tags": []
   },
   "outputs": [],
   "source": [
    "pq <- read.csv(\"/kaggle/input/presence-questionnaire/presence_questionnaire.csv\", comment.char=\"#\")\n"
   ]
  },
  {
   "cell_type": "code",
   "execution_count": 3,
   "id": "1f55c84b",
   "metadata": {
    "execution": {
     "iopub.execute_input": "2023-12-10T11:39:05.306641Z",
     "iopub.status.busy": "2023-12-10T11:39:05.304877Z",
     "iopub.status.idle": "2023-12-10T11:39:05.332839Z",
     "shell.execute_reply": "2023-12-10T11:39:05.330970Z"
    },
    "papermill": {
     "duration": 0.042716,
     "end_time": "2023-12-10T11:39:05.335613",
     "exception": false,
     "start_time": "2023-12-10T11:39:05.292897",
     "status": "completed"
    },
    "tags": []
   },
   "outputs": [
    {
     "data": {
      "text/html": [
       "<style>\n",
       ".list-inline {list-style: none; margin:0; padding: 0}\n",
       ".list-inline>li {display: inline-block}\n",
       ".list-inline>li:not(:last-child)::after {content: \"\\00b7\"; padding: 0 .5ex}\n",
       "</style>\n",
       "<ol class=list-inline><li>'100'</li><li>'101'</li><li>'102'</li><li>'103'</li><li>'104'</li><li>'105'</li><li>'106'</li><li>'107'</li><li>'108'</li><li>'109'</li><li>'110'</li><li>'111'</li><li>'112'</li><li>'113'</li><li>'114'</li><li>'115'</li><li>'116'</li><li>'117'</li><li>'118'</li><li>'119'</li><li>'120'</li><li>'121'</li><li>'122'</li><li>'123'</li><li>'124'</li><li>'126'</li><li>'127'</li><li>'128'</li><li>'129'</li></ol>\n"
      ],
      "text/latex": [
       "\\begin{enumerate*}\n",
       "\\item '100'\n",
       "\\item '101'\n",
       "\\item '102'\n",
       "\\item '103'\n",
       "\\item '104'\n",
       "\\item '105'\n",
       "\\item '106'\n",
       "\\item '107'\n",
       "\\item '108'\n",
       "\\item '109'\n",
       "\\item '110'\n",
       "\\item '111'\n",
       "\\item '112'\n",
       "\\item '113'\n",
       "\\item '114'\n",
       "\\item '115'\n",
       "\\item '116'\n",
       "\\item '117'\n",
       "\\item '118'\n",
       "\\item '119'\n",
       "\\item '120'\n",
       "\\item '121'\n",
       "\\item '122'\n",
       "\\item '123'\n",
       "\\item '124'\n",
       "\\item '126'\n",
       "\\item '127'\n",
       "\\item '128'\n",
       "\\item '129'\n",
       "\\end{enumerate*}\n"
      ],
      "text/markdown": [
       "1. '100'\n",
       "2. '101'\n",
       "3. '102'\n",
       "4. '103'\n",
       "5. '104'\n",
       "6. '105'\n",
       "7. '106'\n",
       "8. '107'\n",
       "9. '108'\n",
       "10. '109'\n",
       "11. '110'\n",
       "12. '111'\n",
       "13. '112'\n",
       "14. '113'\n",
       "15. '114'\n",
       "16. '115'\n",
       "17. '116'\n",
       "18. '117'\n",
       "19. '118'\n",
       "20. '119'\n",
       "21. '120'\n",
       "22. '121'\n",
       "23. '122'\n",
       "24. '123'\n",
       "25. '124'\n",
       "26. '126'\n",
       "27. '127'\n",
       "28. '128'\n",
       "29. '129'\n",
       "\n",
       "\n"
      ],
      "text/plain": [
       " [1] \"100\" \"101\" \"102\" \"103\" \"104\" \"105\" \"106\" \"107\" \"108\" \"109\" \"110\" \"111\"\n",
       "[13] \"112\" \"113\" \"114\" \"115\" \"116\" \"117\" \"118\" \"119\" \"120\" \"121\" \"122\" \"123\"\n",
       "[25] \"124\" \"126\" \"127\" \"128\" \"129\""
      ]
     },
     "metadata": {},
     "output_type": "display_data"
    }
   ],
   "source": [
    "list.files(\"/kaggle/input/scanpath-data\")"
   ]
  },
  {
   "cell_type": "code",
   "execution_count": 4,
   "id": "6fefeaee",
   "metadata": {
    "execution": {
     "iopub.execute_input": "2023-12-10T11:39:05.360219Z",
     "iopub.status.busy": "2023-12-10T11:39:05.358379Z",
     "iopub.status.idle": "2023-12-10T11:39:05.383574Z",
     "shell.execute_reply": "2023-12-10T11:39:05.381544Z"
    },
    "papermill": {
     "duration": 0.040112,
     "end_time": "2023-12-10T11:39:05.386157",
     "exception": false,
     "start_time": "2023-12-10T11:39:05.346045",
     "status": "completed"
    },
    "tags": []
   },
   "outputs": [],
   "source": [
    "getAllEntropies <- function(ntime,nstates){\n",
    "  #this computes an array of entropies for each individual\n",
    "  #ntime is the number of time divisions, noting that the sampling\n",
    "  #rate for eye tracking is 50Hz\n",
    "  #nstates is the number of divisions of the x-target into segments\n",
    "  #covering the 360 degrees in front of the participant\n",
    "  \n",
    "  \n",
    "  # List all child directories within the parent directory\n",
    "  child_dirs <- list.files(\"/kaggle/input/scanpath-data\")\n",
    "  \n",
    "  #the rows are the participants and the columms the successive entropies\n",
    "  allEntropy <- matrix(0,nrow=length(child_dirs),ncol=ntime)\n",
    "  \n",
    "  s <- seq(-pi,0,pi/nstates) #this divides the space in front (the x axis)\n",
    "  s <- cos(s) #the x-coordinate\n",
    "  ind <- 1 #which individual\n",
    "  \n",
    "  timelastchange <- vector() #time of last change of configuration\n",
    "  #this stores the index into the segmented time period for the last change\n",
    "  indexlastchange <- vector()\n",
    "  \n",
    "  # Loop over each child directory\n",
    "  for (child_dir in child_dirs) {\n",
    "    #cat(ind,\" \",child_dir,\"\\n\")\n",
    "    \n",
    "    # Change the working directory to the child directory\n",
    "    #setwd(child_dir)\n",
    "    \n",
    "    # Find the file path\n",
    "    #f <- list.files()\n",
    "    f <- list.files(paste0(\"/kaggle/input/scanpath-data/\",child_dir))\n",
    "    file_path <- f[grep(\"\\\\.csv$\", f)]\n",
    "\n",
    "    # Check if the file exists in the child directory\n",
    "    g <- paste0(\"/kaggle/input/scanpath-data/\",child_dir,\"/\",file_path)\n",
    "    if (file.exists(g)) {\n",
    "      \n",
    "      # Read the file \n",
    "      d <- read.csv(g) \n",
    "      x <- d$EyeTrackingTarget_X \n",
    "      m <- length(x)\n",
    "      t <- round(seq(1,m,(m/ntime)))\n",
    "      t[length(t)+1] <- m\n",
    "      #intervals are t[i]:t[i+1], i=1,...,nseg-1\n",
    "      for(j in 1:(length(t)-1)){\n",
    "        allEntropy[ind,j] <- entropy(s,x[t[j]:t[j+1]])\n",
    "      }\n",
    "      \n",
    "      lastchange <- lastChange(d)\n",
    "      #actual time of the last change\n",
    "      timelastchange[ind] <- d$Seconds[lastchange]- d$Seconds[1]\n",
    "      #indexlastchange[ind] <- findInterval(timelastchange[ind],t) + 1\n",
    "      indexlastchange[ind] <- findInterval(round(lastchange),t)\n",
    "      \n",
    "    } else {\n",
    "      warning(paste(\"File\", file_path, \"does not exist in directory\", child_dir))\n",
    "    }\n",
    "    \n",
    "    # Change back to the parent directory\n",
    "    ind = ind+1\n",
    "    setwd(\"..\")\n",
    "  }\n",
    "  #allEntropy <- allEntropy[,-ntime]\n",
    "  return(list(allEntropy = allEntropy,timelastchange =timelastchange, indexlastchange=indexlastchange))\n",
    "  \n",
    "}"
   ]
  },
  {
   "cell_type": "code",
   "execution_count": 5,
   "id": "82a09430",
   "metadata": {
    "execution": {
     "iopub.execute_input": "2023-12-10T11:39:05.410269Z",
     "iopub.status.busy": "2023-12-10T11:39:05.408471Z",
     "iopub.status.idle": "2023-12-10T11:39:05.424471Z",
     "shell.execute_reply": "2023-12-10T11:39:05.422251Z"
    },
    "papermill": {
     "duration": 0.031151,
     "end_time": "2023-12-10T11:39:05.427357",
     "exception": false,
     "start_time": "2023-12-10T11:39:05.396206",
     "status": "completed"
    },
    "tags": []
   },
   "outputs": [],
   "source": [
    "entropy <- function(states,x){\n",
    "  #states is a sequence of intervals states[1], states[2] corresponding to segments \n",
    "  #on the target x axis dividing the scene in front.\n",
    "  #x is a sequence of x values in the range -1 to 1 corresponding to observed\n",
    "  #target eye movements\n",
    "  \n",
    "  #finds the frequency distribution of x by the segments s\n",
    "  freq <- hist(x, breaks = states, plot = FALSE)\n",
    "  p <- freq$counts/sum(freq$counts) #the probabilities\n",
    "   \n",
    "  return( -sum(ifelse(p == 0, 0, p * log2(p))) )\n",
    "\n",
    "}"
   ]
  },
  {
   "cell_type": "code",
   "execution_count": 6,
   "id": "66461e16",
   "metadata": {
    "execution": {
     "iopub.execute_input": "2023-12-10T11:39:05.451494Z",
     "iopub.status.busy": "2023-12-10T11:39:05.449642Z",
     "iopub.status.idle": "2023-12-10T11:39:05.465304Z",
     "shell.execute_reply": "2023-12-10T11:39:05.463275Z"
    },
    "papermill": {
     "duration": 0.030548,
     "end_time": "2023-12-10T11:39:05.468067",
     "exception": false,
     "start_time": "2023-12-10T11:39:05.437519",
     "status": "completed"
    },
    "tags": []
   },
   "outputs": [],
   "source": [
    "lastChange <- function(d){\n",
    "  \n",
    "  data_matrix <- cbind(d$Stereopsis, d[[\"6DoF\"]], d$SpatialAudio, d$HighResolution, d$AltColour)\n",
    "  \n",
    "  # Convert each row to a binary number\n",
    "  binary_numbers <- apply(data_matrix, 1, function(row) {\n",
    "    sum(2^(which(rev(row) == 1) - 1))\n",
    "  })\n",
    "  \n",
    "  # Find the index of the last change\n",
    "  last_change_index <- max(which(c(TRUE, diff(binary_numbers) != 0)))\n",
    "  \n",
    "  return(last_change_index)\n",
    "}"
   ]
  },
  {
   "cell_type": "code",
   "execution_count": 7,
   "id": "1bb59f42",
   "metadata": {
    "execution": {
     "iopub.execute_input": "2023-12-10T11:39:05.493998Z",
     "iopub.status.busy": "2023-12-10T11:39:05.492089Z",
     "iopub.status.idle": "2023-12-10T11:39:44.500480Z",
     "shell.execute_reply": "2023-12-10T11:39:44.498348Z"
    },
    "papermill": {
     "duration": 39.024421,
     "end_time": "2023-12-10T11:39:44.503403",
     "exception": false,
     "start_time": "2023-12-10T11:39:05.478982",
     "status": "completed"
    },
    "tags": []
   },
   "outputs": [],
   "source": [
    "a <- getAllEntropies(30,18)"
   ]
  },
  {
   "cell_type": "code",
   "execution_count": 8,
   "id": "7b9845e2",
   "metadata": {
    "execution": {
     "iopub.execute_input": "2023-12-10T11:39:44.527643Z",
     "iopub.status.busy": "2023-12-10T11:39:44.525814Z",
     "iopub.status.idle": "2023-12-10T11:39:44.558080Z",
     "shell.execute_reply": "2023-12-10T11:39:44.555540Z"
    },
    "papermill": {
     "duration": 0.047687,
     "end_time": "2023-12-10T11:39:44.561434",
     "exception": false,
     "start_time": "2023-12-10T11:39:44.513747",
     "status": "completed"
    },
    "tags": []
   },
   "outputs": [
    {
     "data": {
      "text/plain": [
       "\n",
       "\tPearson's product-moment correlation\n",
       "\n",
       "data:  t and et\n",
       "t = -4.6165, df = 28, p-value = 7.91e-05\n",
       "alternative hypothesis: true correlation is not equal to 0\n",
       "95 percent confidence interval:\n",
       " -0.8228013 -0.3893542\n",
       "sample estimates:\n",
       "       cor \n",
       "-0.6574073 \n"
      ]
     },
     "metadata": {},
     "output_type": "display_data"
    }
   ],
   "source": [
    "#note to plot the mean over all participants of entropies by time use\n",
    "t <- seq(1,30)\n",
    "et <- apply(a$allEntropy,2,mean)\n",
    "cor.test(t,et)"
   ]
  },
  {
   "cell_type": "code",
   "execution_count": 9,
   "id": "b3ee0b57",
   "metadata": {
    "execution": {
     "iopub.execute_input": "2023-12-10T11:39:44.586645Z",
     "iopub.status.busy": "2023-12-10T11:39:44.584700Z",
     "iopub.status.idle": "2023-12-10T11:39:44.844214Z",
     "shell.execute_reply": "2023-12-10T11:39:44.841001Z"
    },
    "papermill": {
     "duration": 0.275265,
     "end_time": "2023-12-10T11:39:44.846825",
     "exception": false,
     "start_time": "2023-12-10T11:39:44.571560",
     "status": "completed"
    },
    "tags": []
   },
   "outputs": [
    {
     "data": {
      "image/png": "[encoded data removed]"
     },
     "metadata": {
      "image/png": {
       "height": 420,
       "width": 420
      }
     },
     "output_type": "display_data"
    }
   ],
   "source": [
    "plot(t,et,xlab=\"time segment\",ylab = \"median entropy\",pch=16)"
   ]
  },
  {
   "cell_type": "code",
   "execution_count": 10,
   "id": "b8bd22cd",
   "metadata": {
    "execution": {
     "iopub.execute_input": "2023-12-10T11:39:44.872436Z",
     "iopub.status.busy": "2023-12-10T11:39:44.870634Z",
     "iopub.status.idle": "2023-12-10T11:39:44.886476Z",
     "shell.execute_reply": "2023-12-10T11:39:44.884422Z"
    },
    "papermill": {
     "duration": 0.031701,
     "end_time": "2023-12-10T11:39:44.889328",
     "exception": false,
     "start_time": "2023-12-10T11:39:44.857627",
     "status": "completed"
    },
    "tags": []
   },
   "outputs": [],
   "source": [
    "entropyByLastChange <- function(a){\n",
    "  #a is the result of getAllEntropies\n",
    "  #here we save the entropy corresponding to the last change\n",
    "  w <- vector()\n",
    "  n <- dim(a$allEntropy)\n",
    "  n <- n[1]\n",
    "  \n",
    "  for(i in 1:n[1]){\n",
    "    w[i] <- a$allEntropy[i,a$indexlastchange[i]]\n",
    "  }\n",
    "  return(w)\n",
    "  \n",
    "}"
   ]
  },
  {
   "cell_type": "code",
   "execution_count": 11,
   "id": "38434b04",
   "metadata": {
    "execution": {
     "iopub.execute_input": "2023-12-10T11:39:44.915447Z",
     "iopub.status.busy": "2023-12-10T11:39:44.913678Z",
     "iopub.status.idle": "2023-12-10T11:39:44.939703Z",
     "shell.execute_reply": "2023-12-10T11:39:44.937621Z"
    },
    "papermill": {
     "duration": 0.042671,
     "end_time": "2023-12-10T11:39:44.943294",
     "exception": false,
     "start_time": "2023-12-10T11:39:44.900623",
     "status": "completed"
    },
    "tags": []
   },
   "outputs": [],
   "source": [
    "elast <- entropyByLastChange(a)"
   ]
  },
  {
   "cell_type": "code",
   "execution_count": 12,
   "id": "1a2efb11",
   "metadata": {
    "execution": {
     "iopub.execute_input": "2023-12-10T11:39:44.969143Z",
     "iopub.status.busy": "2023-12-10T11:39:44.967279Z",
     "iopub.status.idle": "2023-12-10T11:39:45.047387Z",
     "shell.execute_reply": "2023-12-10T11:39:45.045323Z"
    },
    "papermill": {
     "duration": 0.096946,
     "end_time": "2023-12-10T11:39:45.050939",
     "exception": false,
     "start_time": "2023-12-10T11:39:44.953993",
     "status": "completed"
    },
    "tags": []
   },
   "outputs": [],
   "source": [
    "PI <- matrix(data = c(pq$there,pq$reality,pq$place,pq$virtualplace),nrow=29,ncol=4)\n",
    "PI_median <- apply(PI,1,median)"
   ]
  },
  {
   "cell_type": "code",
   "execution_count": 13,
   "id": "659fa894",
   "metadata": {
    "execution": {
     "iopub.execute_input": "2023-12-10T11:39:45.076814Z",
     "iopub.status.busy": "2023-12-10T11:39:45.074907Z",
     "iopub.status.idle": "2023-12-10T11:39:45.173303Z",
     "shell.execute_reply": "2023-12-10T11:39:45.171008Z"
    },
    "papermill": {
     "duration": 0.114707,
     "end_time": "2023-12-10T11:39:45.176341",
     "exception": false,
     "start_time": "2023-12-10T11:39:45.061634",
     "status": "completed"
    },
    "tags": []
   },
   "outputs": [
    {
     "data": {
      "image/png": "[encoded data removed]"
     },
     "metadata": {
      "image/png": {
       "height": 420,
       "width": 420
      }
     },
     "output_type": "display_data"
    }
   ],
   "source": [
    "plot(PI_median,elast,xlab=\"PI_median\",ylab=\"entropy\",xlim=c(1,7), pch=16)"
   ]
  },
  {
   "cell_type": "code",
   "execution_count": 14,
   "id": "f0dfd557",
   "metadata": {
    "execution": {
     "iopub.execute_input": "2023-12-10T11:39:45.204581Z",
     "iopub.status.busy": "2023-12-10T11:39:45.202664Z",
     "iopub.status.idle": "2023-12-10T11:39:45.259314Z",
     "shell.execute_reply": "2023-12-10T11:39:45.256819Z"
    },
    "papermill": {
     "duration": 0.074589,
     "end_time": "2023-12-10T11:39:45.262754",
     "exception": false,
     "start_time": "2023-12-10T11:39:45.188165",
     "status": "completed"
    },
    "tags": []
   },
   "outputs": [
    {
     "data": {
      "text/plain": [
       "\n",
       "Call:\n",
       "lm(formula = elast ~ PI_median + PI_median2)\n",
       "\n",
       "Residuals:\n",
       "    Min      1Q  Median      3Q     Max \n",
       "-0.8005 -0.2095 -0.0914  0.2643  0.9476 \n",
       "\n",
       "Coefficients:\n",
       "            Estimate Std. Error t value Pr(>|t|)   \n",
       "(Intercept)  1.17197    0.54851   2.137  0.04221 * \n",
       "PI_median    0.93495    0.29391   3.181  0.00378 **\n",
       "PI_median2  -0.11674    0.03668  -3.183  0.00376 **\n",
       "---\n",
       "Signif. codes:  0 ‘***’ 0.001 ‘**’ 0.01 ‘*’ 0.05 ‘.’ 0.1 ‘ ’ 1\n",
       "\n",
       "Residual standard error: 0.4391 on 26 degrees of freedom\n",
       "Multiple R-squared:  0.2823,\tAdjusted R-squared:  0.2271 \n",
       "F-statistic: 5.113 on 2 and 26 DF,  p-value: 0.01341\n"
      ]
     },
     "metadata": {},
     "output_type": "display_data"
    },
    {
     "data": {
      "text/plain": [
       "\n",
       "\tPearson's product-moment correlation\n",
       "\n",
       "data:  elast[PI_median >= 3] and PI_median[PI_median >= 3]\n",
       "t = -1.8713, df = 24, p-value = 0.07354\n",
       "alternative hypothesis: true correlation is not equal to 0\n",
       "95 percent confidence interval:\n",
       " -0.65381454  0.03541412\n",
       "sample estimates:\n",
       "       cor \n",
       "-0.3568328 \n"
      ]
     },
     "metadata": {},
     "output_type": "display_data"
    }
   ],
   "source": [
    "PI_median2 <- PI_median^2\n",
    "lm <- lm(elast ~ PI_median + PI_median2)\n",
    "summary(lm)\n",
    "\n",
    "cor.test(elast[PI_median>=3],PI_median[PI_median>=3])"
   ]
  },
  {
   "cell_type": "code",
   "execution_count": 15,
   "id": "3d257daa",
   "metadata": {
    "execution": {
     "iopub.execute_input": "2023-12-10T11:39:45.290755Z",
     "iopub.status.busy": "2023-12-10T11:39:45.288919Z",
     "iopub.status.idle": "2023-12-10T11:46:23.462781Z",
     "shell.execute_reply": "2023-12-10T11:46:23.459834Z"
    },
    "papermill": {
     "duration": 398.204338,
     "end_time": "2023-12-10T11:46:23.478892",
     "exception": false,
     "start_time": "2023-12-10T11:39:45.274554",
     "status": "completed"
    },
    "tags": []
   },
   "outputs": [
    {
     "name": "stdout",
     "output_type": "stream",
     "text": [
      "i =  1   ntime =  24 nstates =  14 \n",
      "i =  2   ntime =  23 nstates =  5 \n",
      "i =  3   ntime =  39 nstates =  28 \n",
      "i =  4   ntime =  11 nstates =  5 \n",
      "i =  5   ntime =  6 nstates =  13 \n",
      "i =  6   ntime =  17 nstates =  13 \n",
      "i =  7   ntime =  34 nstates =  29 \n",
      "i =  8   ntime =  24 nstates =  8 \n",
      "i =  9   ntime =  22 nstates =  26 \n",
      "i =  10   ntime =  27 nstates =  25 \n"
     ]
    }
   ],
   "source": [
    "#Running 1000 times doesn't work on Kaggle, it takes too long.\n",
    "#Instead I will illustrate it with 10 times.\n",
    "#let's sample over the time periods and the number of states\n",
    "#the total time is 20 minutes so let's sample randomly\n",
    "\n",
    "\n",
    "e10 <- rep(0,29)\n",
    "N <- 10\n",
    "for(i in 1:N) {\n",
    "  ntime <- round(runif(1,5,40))\n",
    "  nstates <- round(runif(1,3,30))\n",
    "  a <- getAllEntropies(ntime,nstates)\n",
    "  e10 <- e10 + entropyByLastChange(a)\n",
    "  cat(\"i = \",i,\" \",\"ntime = \",ntime,\"nstates = \",nstates, \"\\n\")\n",
    "  flush.console()\n",
    "}\n",
    "e10 <- e10/N\n"
   ]
  },
  {
   "cell_type": "code",
   "execution_count": 16,
   "id": "4cf5717d",
   "metadata": {
    "execution": {
     "iopub.execute_input": "2023-12-10T11:46:23.516399Z",
     "iopub.status.busy": "2023-12-10T11:46:23.514617Z",
     "iopub.status.idle": "2023-12-10T11:46:23.593268Z",
     "shell.execute_reply": "2023-12-10T11:46:23.591072Z"
    },
    "papermill": {
     "duration": 0.102779,
     "end_time": "2023-12-10T11:46:23.598670",
     "exception": false,
     "start_time": "2023-12-10T11:46:23.495891",
     "status": "completed"
    },
    "tags": []
   },
   "outputs": [
    {
     "data": {
      "image/png": "[encoded data removed]"
     },
     "metadata": {
      "image/png": {
       "height": 420,
       "width": 420
      }
     },
     "output_type": "display_data"
    }
   ],
   "source": [
    "plot(PI_median,e10,xlim=c(1,7),ylab=\"median entropy\", pch=16)\n"
   ]
  },
  {
   "cell_type": "code",
   "execution_count": 17,
   "id": "18e67741",
   "metadata": {
    "execution": {
     "iopub.execute_input": "2023-12-10T11:46:23.636748Z",
     "iopub.status.busy": "2023-12-10T11:46:23.633987Z",
     "iopub.status.idle": "2023-12-10T11:46:25.795401Z",
     "shell.execute_reply": "2023-12-10T11:46:25.793350Z"
    },
    "papermill": {
     "duration": 2.182548,
     "end_time": "2023-12-10T11:46:25.799085",
     "exception": false,
     "start_time": "2023-12-10T11:46:23.616537",
     "status": "completed"
    },
    "tags": []
   },
   "outputs": [
    {
     "name": "stderr",
     "output_type": "stream",
     "text": [
      "Loading required package: StanHeaders\n",
      "\n",
      "\n",
      "rstan version 2.32.3 (Stan version 2.26.1)\n",
      "\n",
      "\n",
      "For execution on a local, multicore CPU with excess RAM we recommend calling\n",
      "options(mc.cores = parallel::detectCores()).\n",
      "To avoid recompilation of unchanged Stan programs, we recommend calling\n",
      "rstan_options(auto_write = TRUE)\n",
      "For within-chain threading using `reduce_sum()` or `map_rect()` Stan functions,\n",
      "change `threads_per_chain` option:\n",
      "rstan_options(threads_per_chain = 1)\n",
      "\n",
      "\n",
      "\n",
      "Attaching package: ‘rstan’\n",
      "\n",
      "\n",
      "The following object is masked from ‘package:tidyr’:\n",
      "\n",
      "    extract\n",
      "\n",
      "\n"
     ]
    }
   ],
   "source": [
    "#Stan analysis\n",
    "library(\"rstan\")\n",
    "options(mc.cores = parallel::detectCores())\n",
    "rstan_options(auto_write = TRUE)"
   ]
  },
  {
   "cell_type": "code",
   "execution_count": 18,
   "id": "263bc2b6",
   "metadata": {
    "execution": {
     "iopub.execute_input": "2023-12-10T11:46:25.832426Z",
     "iopub.status.busy": "2023-12-10T11:46:25.830102Z",
     "iopub.status.idle": "2023-12-10T11:46:25.848081Z",
     "shell.execute_reply": "2023-12-10T11:46:25.845980Z"
    },
    "papermill": {
     "duration": 0.037396,
     "end_time": "2023-12-10T11:46:25.850959",
     "exception": false,
     "start_time": "2023-12-10T11:46:25.813563",
     "status": "completed"
    },
    "tags": []
   },
   "outputs": [],
   "source": [
    "mydata <- list(\n",
    "            N = length(PI_median),\n",
    "            pres = PI_median,\n",
    "            entropy = e10\n",
    ")\n"
   ]
  },
  {
   "cell_type": "code",
   "execution_count": 19,
   "id": "708177fd",
   "metadata": {
    "execution": {
     "iopub.execute_input": "2023-12-10T11:46:25.883946Z",
     "iopub.status.busy": "2023-12-10T11:46:25.882048Z",
     "iopub.status.idle": "2023-12-10T11:46:25.899085Z",
     "shell.execute_reply": "2023-12-10T11:46:25.897002Z"
    },
    "papermill": {
     "duration": 0.037549,
     "end_time": "2023-12-10T11:46:25.903204",
     "exception": false,
     "start_time": "2023-12-10T11:46:25.865655",
     "status": "completed"
    },
    "tags": []
   },
   "outputs": [],
   "source": [
    "stan_model <- \"\n",
    "data {\n",
    "  int<lower=0> N;       // Number of data points\n",
    "  vector[N] pres;       // Independent variable\n",
    "  vector[N] entropy;    // Dependent variable\n",
    "}\n",
    "\n",
    "parameters {\n",
    "  vector[3] b;                 \n",
    "  real<lower=0> sigma;      \n",
    "  real<lower=1> v;      //degrees of freedom\n",
    "}\n",
    "\n",
    "model {\n",
    "  // Priors\n",
    "  b ~ normal(0, 10);\n",
    "  sigma ~ gamma(2,0.1);\n",
    "  v ~ gamma(2,0.1);\n",
    "\n",
    "  // Likelihood\n",
    "  for(i in 1:N) {\n",
    "      entropy[i] ~ student_t(v, b[1] + b[2]*pres[i] + b[3]*(pres[i]^2), sigma);\n",
    "  }\n",
    "}\n",
    "\n",
    "generated quantities {\n",
    "  vector[N] entropy_new;\n",
    "  vector[N] log_lik_entropy;\n",
    "  real m;\n",
    "  \n",
    "  for(i in 1:N){\n",
    "    m = b[1] + b[2]*pres[i] + b[3]*(pres[i]^2);\n",
    "    entropy_new[i] = student_t_rng(v,m, sigma);\n",
    "    log_lik_entropy[i] = student_t_lpdf(entropy[i]|v,m, sigma);\n",
    "  }\n",
    "}\n",
    "\""
   ]
  },
  {
   "cell_type": "code",
   "execution_count": 20,
   "id": "97ca7b90",
   "metadata": {
    "execution": {
     "iopub.execute_input": "2023-12-10T11:46:25.935562Z",
     "iopub.status.busy": "2023-12-10T11:46:25.933721Z",
     "iopub.status.idle": "2023-12-10T11:48:41.431253Z",
     "shell.execute_reply": "2023-12-10T11:48:41.428999Z"
    },
    "papermill": {
     "duration": 135.516593,
     "end_time": "2023-12-10T11:48:41.434136",
     "exception": false,
     "start_time": "2023-12-10T11:46:25.917543",
     "status": "completed"
    },
    "tags": []
   },
   "outputs": [],
   "source": [
    "fit <- stan (model_code = stan_model, # Stan program\n",
    "              data = mydata, # named list of data\n",
    "              chains = 4, # number of Markov chains\n",
    "              iter = 3000, # total number of iterations per chain\n",
    "              cores = 4,\n",
    "              #control = list(max_treedepth = 12),\n",
    "              seed=54321)\n"
   ]
  },
  {
   "cell_type": "code",
   "execution_count": 21,
   "id": "14f140d7",
   "metadata": {
    "execution": {
     "iopub.execute_input": "2023-12-10T11:48:41.470164Z",
     "iopub.status.busy": "2023-12-10T11:48:41.468370Z",
     "iopub.status.idle": "2023-12-10T11:48:41.860990Z",
     "shell.execute_reply": "2023-12-10T11:48:41.858370Z"
    },
    "papermill": {
     "duration": 0.412552,
     "end_time": "2023-12-10T11:48:41.864126",
     "exception": false,
     "start_time": "2023-12-10T11:48:41.451574",
     "status": "completed"
    },
    "tags": []
   },
   "outputs": [
    {
     "name": "stdout",
     "output_type": "stream",
     "text": [
      "Inference for Stan model: anon_model.\n",
      "4 chains, each with iter=3000; warmup=1500; thin=1; \n",
      "post-warmup draws per chain=1500, total post-warmup draws=6000.\n",
      "\n",
      "       mean se_mean    sd  2.5% 97.5% n_eff Rhat\n",
      "b[1]   1.29    0.01  0.46  0.31  2.16  1745    1\n",
      "b[2]   0.77    0.01  0.25  0.29  1.30  1595    1\n",
      "b[3]  -0.10    0.00  0.03 -0.17 -0.04  1662    1\n",
      "sigma  0.34    0.00  0.06  0.25  0.47  2710    1\n",
      "v     21.83    0.24 13.99  4.45 57.35  3493    1\n",
      "\n",
      "Samples were drawn using NUTS(diag_e) at Sun Dec 10 11:48:40 2023.\n",
      "For each parameter, n_eff is a crude measure of effective sample size,\n",
      "and Rhat is the potential scale reduction factor on split chains (at \n",
      "convergence, Rhat=1).\n"
     ]
    }
   ],
   "source": [
    "print(fit, pars=c(\"b\",\"sigma\",\"v\"),probs=c(.025,.975))"
   ]
  },
  {
   "cell_type": "code",
   "execution_count": 22,
   "id": "4370c880",
   "metadata": {
    "execution": {
     "iopub.execute_input": "2023-12-10T11:48:41.896960Z",
     "iopub.status.busy": "2023-12-10T11:48:41.894498Z",
     "iopub.status.idle": "2023-12-10T11:48:41.984296Z",
     "shell.execute_reply": "2023-12-10T11:48:41.981919Z"
    },
    "papermill": {
     "duration": 0.109224,
     "end_time": "2023-12-10T11:48:41.987492",
     "exception": false,
     "start_time": "2023-12-10T11:48:41.878268",
     "status": "completed"
    },
    "tags": []
   },
   "outputs": [],
   "source": [
    "e <- rstan::extract(fit)"
   ]
  },
  {
   "cell_type": "code",
   "execution_count": 23,
   "id": "706e8c63",
   "metadata": {
    "execution": {
     "iopub.execute_input": "2023-12-10T11:48:42.022574Z",
     "iopub.status.busy": "2023-12-10T11:48:42.020404Z",
     "iopub.status.idle": "2023-12-10T11:48:42.057859Z",
     "shell.execute_reply": "2023-12-10T11:48:42.055670Z"
    },
    "papermill": {
     "duration": 0.058223,
     "end_time": "2023-12-10T11:48:42.061077",
     "exception": false,
     "start_time": "2023-12-10T11:48:42.002854",
     "status": "completed"
    },
    "tags": []
   },
   "outputs": [
    {
     "data": {
      "text/html": [
       "0.994666666666667"
      ],
      "text/latex": [
       "0.994666666666667"
      ],
      "text/markdown": [
       "0.994666666666667"
      ],
      "text/plain": [
       "[1] 0.9946667"
      ]
     },
     "metadata": {},
     "output_type": "display_data"
    },
    {
     "data": {
      "text/html": [
       "0.999166666666667"
      ],
      "text/latex": [
       "0.999166666666667"
      ],
      "text/markdown": [
       "0.999166666666667"
      ],
      "text/plain": [
       "[1] 0.9991667"
      ]
     },
     "metadata": {},
     "output_type": "display_data"
    },
    {
     "data": {
      "text/html": [
       "0.001"
      ],
      "text/latex": [
       "0.001"
      ],
      "text/markdown": [
       "0.001"
      ],
      "text/plain": [
       "[1] 0.001"
      ]
     },
     "metadata": {},
     "output_type": "display_data"
    }
   ],
   "source": [
    "#probabilities of the parameters being positive\n",
    "mean(e$b[,1]>0)\n",
    "mean(e$b[,2]>0)\n",
    "mean(e$b[,3]>0)"
   ]
  },
  {
   "cell_type": "code",
   "execution_count": 24,
   "id": "10f782d4",
   "metadata": {
    "execution": {
     "iopub.execute_input": "2023-12-10T11:48:42.096150Z",
     "iopub.status.busy": "2023-12-10T11:48:42.093988Z",
     "iopub.status.idle": "2023-12-10T11:48:42.116531Z",
     "shell.execute_reply": "2023-12-10T11:48:42.114380Z"
    },
    "papermill": {
     "duration": 0.043183,
     "end_time": "2023-12-10T11:48:42.119579",
     "exception": false,
     "start_time": "2023-12-10T11:48:42.076396",
     "status": "completed"
    },
    "tags": []
   },
   "outputs": [
    {
     "data": {
      "text/html": [
       "0.773833333333333"
      ],
      "text/latex": [
       "0.773833333333333"
      ],
      "text/markdown": [
       "0.773833333333333"
      ],
      "text/plain": [
       "[1] 0.7738333"
      ]
     },
     "metadata": {},
     "output_type": "display_data"
    }
   ],
   "source": [
    "#find the probability that the degrees of freedom might be less than 30\n",
    "mean(e$v < 30)"
   ]
  },
  {
   "cell_type": "code",
   "execution_count": 25,
   "id": "65f92dc1",
   "metadata": {
    "execution": {
     "iopub.execute_input": "2023-12-10T11:48:42.153834Z",
     "iopub.status.busy": "2023-12-10T11:48:42.151781Z",
     "iopub.status.idle": "2023-12-10T11:48:42.175204Z",
     "shell.execute_reply": "2023-12-10T11:48:42.172864Z"
    },
    "papermill": {
     "duration": 0.044474,
     "end_time": "2023-12-10T11:48:42.178822",
     "exception": false,
     "start_time": "2023-12-10T11:48:42.134348",
     "status": "completed"
    },
    "tags": []
   },
   "outputs": [],
   "source": [
    "#obtain the means of the parameters forming the quadratic\n",
    "b0 <- mean(e$b[,1])\n",
    "b1 <- mean(e$b[,2])\n",
    "b2 <- mean(e$b[,3])"
   ]
  },
  {
   "cell_type": "code",
   "execution_count": 26,
   "id": "0ce21b01",
   "metadata": {
    "execution": {
     "iopub.execute_input": "2023-12-10T11:48:42.238044Z",
     "iopub.status.busy": "2023-12-10T11:48:42.210538Z",
     "iopub.status.idle": "2023-12-10T11:48:42.255091Z",
     "shell.execute_reply": "2023-12-10T11:48:42.252665Z"
    },
    "papermill": {
     "duration": 0.064618,
     "end_time": "2023-12-10T11:48:42.258095",
     "exception": false,
     "start_time": "2023-12-10T11:48:42.193477",
     "status": "completed"
    },
    "tags": []
   },
   "outputs": [],
   "source": [
    "#now plot the quadratic over the data points\n",
    "p <- seq(1,7,0.1)\n",
    "ent <- b0 + b1*p + b2*(p^2)"
   ]
  },
  {
   "cell_type": "code",
   "execution_count": 27,
   "id": "a8582e3b",
   "metadata": {
    "execution": {
     "iopub.execute_input": "2023-12-10T11:48:42.293266Z",
     "iopub.status.busy": "2023-12-10T11:48:42.291394Z",
     "iopub.status.idle": "2023-12-10T11:48:42.391082Z",
     "shell.execute_reply": "2023-12-10T11:48:42.388928Z"
    },
    "papermill": {
     "duration": 0.120292,
     "end_time": "2023-12-10T11:48:42.393900",
     "exception": false,
     "start_time": "2023-12-10T11:48:42.273608",
     "status": "completed"
    },
    "tags": []
   },
   "outputs": [
    {
     "data": {
      "image/png": "[encoded data removed]"
     },
     "metadata": {
      "image/png": {
       "height": 420,
       "width": 420
      }
     },
     "output_type": "display_data"
    }
   ],
   "source": [
    "sz <- 1.5\n",
    "plot(p, ent, type=\"l\", ylim=c(1,3.5), xlim=c(1,7), xlab=\"\", ylab=\"\", \n",
    "     cex.lab=sz, cex.axis=sz)\n",
    "par(new=TRUE)\n",
    "plot(PI_median, e10, ylim=c(1,3.5), xlim=c(1,7), ylab=\"entropy\", \n",
    "     pch=16, cex.lab=sz, cex.axis=sz)\n"
   ]
  },
  {
   "cell_type": "code",
   "execution_count": 28,
   "id": "bfb24296",
   "metadata": {
    "execution": {
     "iopub.execute_input": "2023-12-10T11:48:42.430827Z",
     "iopub.status.busy": "2023-12-10T11:48:42.429201Z",
     "iopub.status.idle": "2023-12-10T11:48:42.522865Z",
     "shell.execute_reply": "2023-12-10T11:48:42.520845Z"
    },
    "papermill": {
     "duration": 0.114942,
     "end_time": "2023-12-10T11:48:42.525612",
     "exception": false,
     "start_time": "2023-12-10T11:48:42.410670",
     "status": "completed"
    },
    "tags": []
   },
   "outputs": [
    {
     "data": {
      "text/plain": [
       "\n",
       "\tPearson's product-moment correlation\n",
       "\n",
       "data:  e10 and apply(e$entropy_new, 2, mean)\n",
       "t = 3.7701, df = 27, p-value = 0.0008103\n",
       "alternative hypothesis: true correlation is not equal to 0\n",
       "95 percent confidence interval:\n",
       " 0.2813103 0.7848456\n",
       "sample estimates:\n",
       "      cor \n",
       "0.5872676 \n"
      ]
     },
     "metadata": {},
     "output_type": "display_data"
    },
    {
     "data": {
      "image/png": "[encoded data removed]"
     },
     "metadata": {
      "image/png": {
       "height": 420,
       "width": 420
      }
     },
     "output_type": "display_data"
    }
   ],
   "source": [
    "#plot observed against predicted posterior distribution means\n",
    "plot(e10,apply(e$entropy_new,2,mean))\n",
    "cor.test(e10,apply(e$entropy_new,2,mean))"
   ]
  },
  {
   "cell_type": "code",
   "execution_count": 29,
   "id": "6b68156c",
   "metadata": {
    "execution": {
     "iopub.execute_input": "2023-12-10T11:48:42.564337Z",
     "iopub.status.busy": "2023-12-10T11:48:42.562597Z",
     "iopub.status.idle": "2023-12-10T11:48:42.578498Z",
     "shell.execute_reply": "2023-12-10T11:48:42.576360Z"
    },
    "papermill": {
     "duration": 0.038308,
     "end_time": "2023-12-10T11:48:42.581426",
     "exception": false,
     "start_time": "2023-12-10T11:48:42.543118",
     "status": "completed"
    },
    "tags": []
   },
   "outputs": [],
   "source": [
    "loo_summary <- function(fit, name) {\n",
    "\n",
    "  log_lik <- extract_log_lik(fit, merge_chains = FALSE,parameter_name=name)\n",
    "  r_eff <- relative_eff(exp(log_lik))\n",
    "  loo <- loo(log_lik, r_eff = r_eff, cores = 2)\n",
    "  return(loo)\n",
    "}"
   ]
  },
  {
   "cell_type": "code",
   "execution_count": 30,
   "id": "3837c35e",
   "metadata": {
    "execution": {
     "iopub.execute_input": "2023-12-10T11:48:42.621062Z",
     "iopub.status.busy": "2023-12-10T11:48:42.619152Z",
     "iopub.status.idle": "2023-12-10T11:48:43.398084Z",
     "shell.execute_reply": "2023-12-10T11:48:43.395502Z"
    },
    "papermill": {
     "duration": 0.80216,
     "end_time": "2023-12-10T11:48:43.401145",
     "exception": false,
     "start_time": "2023-12-10T11:48:42.598985",
     "status": "completed"
    },
    "tags": []
   },
   "outputs": [
    {
     "name": "stderr",
     "output_type": "stream",
     "text": [
      "This is loo version 2.6.0\n",
      "\n",
      "- Online documentation and vignettes at mc-stan.org/loo\n",
      "\n",
      "- As of v2.0.0 loo defaults to 1 core but we recommend using as many as possible. Use the 'cores' argument or set options(mc.cores = NUM_CORES) for an entire session. \n",
      "\n",
      "\n",
      "Attaching package: ‘loo’\n",
      "\n",
      "\n",
      "The following object is masked from ‘package:rstan’:\n",
      "\n",
      "    loo\n",
      "\n",
      "\n",
      "Warning message:\n",
      "“Some Pareto k diagnostic values are slightly high. See help('pareto-k-diagnostic') for details.\n",
      "”\n"
     ]
    },
    {
     "data": {
      "text/plain": [
       "\n",
       "Computed from 6000 by 29 log-likelihood matrix\n",
       "\n",
       "         Estimate  SE\n",
       "elpd_loo    -13.0 4.0\n",
       "p_loo         4.0 1.2\n",
       "looic        25.9 8.1\n",
       "------\n",
       "Monte Carlo SE of elpd_loo is 0.1.\n",
       "\n",
       "Pareto k diagnostic values:\n",
       "                         Count Pct.    Min. n_eff\n",
       "(-Inf, 0.5]   (good)     27    93.1%   1368      \n",
       " (0.5, 0.7]   (ok)        2     6.9%   302       \n",
       "   (0.7, 1]   (bad)       0     0.0%   <NA>      \n",
       "   (1, Inf)   (very bad)  0     0.0%   <NA>      \n",
       "\n",
       "All Pareto k estimates are ok (k < 0.7).\n",
       "See help('pareto-k-diagnostic') for details."
      ]
     },
     "metadata": {},
     "output_type": "display_data"
    }
   ],
   "source": [
    "library(\"loo\")\n",
    "loo <- loo_summary(fit,\"log_lik_entropy\")\n",
    "loo"
   ]
  }
 ],
 "metadata": {
  "kaggle": {
   "accelerator": "none",
   "dataSources": [
    {
     "datasetId": 4137439,
     "sourceId": 7162885,
     "sourceType": "datasetVersion"
    },
    {
     "datasetId": 4137455,
     "sourceId": 7162911,
     "sourceType": "datasetVersion"
    }
   ],
   "dockerImageVersionId": 30618,
   "isGpuEnabled": false,
   "isInternetEnabled": true,
   "language": "r",
   "sourceType": "notebook"
  },
  "kernelspec": {
   "display_name": "R",
   "language": "R",
   "name": "ir"
  },
  "language_info": {
   "codemirror_mode": "r",
   "file_extension": ".r",
   "mimetype": "text/x-r-source",
   "name": "R",
   "pygments_lexer": "r",
   "version": "4.0.5"
  },
  "papermill": {
   "default_parameters": {},
   "duration": 583.389958,
   "end_time": "2023-12-10T11:48:43.646060",
   "environment_variables": {},
   "exception": null,
   "input_path": "__notebook__.ipynb",
   "output_path": "__notebook__.ipynb",
   "parameters": {},
   "start_time": "2023-12-10T11:39:00.256102",
   "version": "2.5.0"
  }
 },
 "nbformat": 4,
 "nbformat_minor": 5
}
