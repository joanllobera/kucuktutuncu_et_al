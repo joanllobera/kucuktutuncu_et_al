{
 "cells": [
  {
   "cell_type": "code",
   "execution_count": 1,
   "id": "96879f58",
   "metadata": {
    "_execution_state": "idle",
    "_uuid": "051d70d956493feee0c6d64651c6a088724dca2a",
    "execution": {
     "iopub.execute_input": "2023-12-09T17:00:36.346972Z",
     "iopub.status.busy": "2023-12-09T17:00:36.344702Z",
     "iopub.status.idle": "2023-12-09T17:00:37.643144Z",
     "shell.execute_reply": "2023-12-09T17:00:37.641049Z"
    },
    "papermill": {
     "duration": 1.320524,
     "end_time": "2023-12-09T17:00:37.646209",
     "exception": false,
     "start_time": "2023-12-09T17:00:36.325685",
     "status": "completed"
    },
    "tags": []
   },
   "outputs": [
    {
     "name": "stderr",
     "output_type": "stream",
     "text": [
      "── \u001b[1mAttaching core tidyverse packages\u001b[22m ──────────────────────── tidyverse 2.0.0 ──\n",
      "\u001b[32m✔\u001b[39m \u001b[34mdplyr    \u001b[39m 1.1.4     \u001b[32m✔\u001b[39m \u001b[34mreadr    \u001b[39m 2.1.4\n",
      "\u001b[32m✔\u001b[39m \u001b[34mforcats  \u001b[39m 1.0.0     \u001b[32m✔\u001b[39m \u001b[34mstringr  \u001b[39m 1.5.1\n",
      "\u001b[32m✔\u001b[39m \u001b[34mggplot2  \u001b[39m 3.4.4     \u001b[32m✔\u001b[39m \u001b[34mtibble   \u001b[39m 3.2.1\n",
      "\u001b[32m✔\u001b[39m \u001b[34mlubridate\u001b[39m 1.9.3     \u001b[32m✔\u001b[39m \u001b[34mtidyr    \u001b[39m 1.3.0\n",
      "\u001b[32m✔\u001b[39m \u001b[34mpurrr    \u001b[39m 1.0.2     \n",
      "── \u001b[1mConflicts\u001b[22m ────────────────────────────────────────── tidyverse_conflicts() ──\n",
      "\u001b[31m✖\u001b[39m \u001b[34mdplyr\u001b[39m::\u001b[32mfilter()\u001b[39m masks \u001b[34mstats\u001b[39m::filter()\n",
      "\u001b[31m✖\u001b[39m \u001b[34mdplyr\u001b[39m::\u001b[32mlag()\u001b[39m    masks \u001b[34mstats\u001b[39m::lag()\n",
      "\u001b[36mℹ\u001b[39m Use the conflicted package (\u001b[3m\u001b[34m<http://conflicted.r-lib.org/>\u001b[39m\u001b[23m) to force all conflicts to become errors\n"
     ]
    },
    {
     "data": {
      "text/html": [
       "'resultstransitions'"
      ],
      "text/latex": [
       "'resultstransitions'"
      ],
      "text/markdown": [
       "'resultstransitions'"
      ],
      "text/plain": [
       "[1] \"resultstransitions\""
      ]
     },
     "metadata": {},
     "output_type": "display_data"
    }
   ],
   "source": [
    "# This R environment comes with many helpful analytics packages installed\n",
    "# It is defined by the kaggle/rstats Docker image: https://github.com/kaggle/docker-rstats\n",
    "# For example, here's a helpful package to load\n",
    "\n",
    "library(tidyverse) # metapackage of all tidyverse packages\n",
    "\n",
    "# Input data files are available in the read-only \"../input/\" directory\n",
    "# For example, running this (by clicking run or pressing Shift+Enter) will list all files under the input directory\n",
    "\n",
    "list.files(path = \"../input\")\n",
    "\n",
    "# You can write up to 20GB to the current directory (/kaggle/working/) that gets preserved as output when you create a version using \"Save & Run All\" \n",
    "# You can also write temporary files to /kaggle/temp/, but they won't be saved outside of the current session"
   ]
  },
  {
   "cell_type": "code",
   "execution_count": 2,
   "id": "f33fcd06",
   "metadata": {
    "execution": {
     "iopub.execute_input": "2023-12-09T17:00:37.715065Z",
     "iopub.status.busy": "2023-12-09T17:00:37.680315Z",
     "iopub.status.idle": "2023-12-09T17:00:37.748120Z",
     "shell.execute_reply": "2023-12-09T17:00:37.746126Z"
    },
    "papermill": {
     "duration": 0.089675,
     "end_time": "2023-12-09T17:00:37.751816",
     "exception": false,
     "start_time": "2023-12-09T17:00:37.662141",
     "status": "completed"
    },
    "tags": []
   },
   "outputs": [],
   "source": [
    "R <- as.matrix(read.csv(\"../input/resultstransitions/results-transitions.csv\"))\n",
    "\n",
    "#The configurations are 0 to 31, with \n",
    "#0 = 00000\n",
    "#31 = 11111\n",
    "#the proposed changes are\n",
    "# 1 means a change in the 5th place = 16 (2**4)\n",
    "# 2 means a change in the 4th place = 8  (2**3)\n",
    "# 3 means a change in the 3rd place = 4  (2**2)\n",
    "# 4 means a change in the 4th place = 2  (2**1)\n",
    "# 5 means a change in the 1st place = 1  (2**0)\n",
    "#because the changes are implemented from left to right on the binary number.\n",
    "#so if the change is c then we need to use 2**(5-c)\n",
    "#but the change only happens if the subsequent value is 1 corresponding to an acceptance of the change.\n",
    "\n",
    "#1. Stereopsis (0 is mono, 1 is stereo)\n",
    "#2. Parallax (0 is no parallax, 1 is parallax)\n",
    "#3. Spatial sound (0 is mono, 1 is spatial)\n",
    "#4. High resolution (0 is low, 1 is high)\n",
    "#5. Colour (0 is original, 1 is alternative)"
   ]
  },
  {
   "cell_type": "code",
   "execution_count": 3,
   "id": "fb6968a2",
   "metadata": {
    "execution": {
     "iopub.execute_input": "2023-12-09T17:00:37.788698Z",
     "iopub.status.busy": "2023-12-09T17:00:37.786648Z",
     "iopub.status.idle": "2023-12-09T17:00:37.807548Z",
     "shell.execute_reply": "2023-12-09T17:00:37.805245Z"
    },
    "papermill": {
     "duration": 0.044232,
     "end_time": "2023-12-09T17:00:37.811603",
     "exception": false,
     "start_time": "2023-12-09T17:00:37.767371",
     "status": "completed"
    },
    "tags": []
   },
   "outputs": [],
   "source": [
    "find_position_of_nine <- function(row) {\n",
    "  if (length(row) < 2) {\n",
    "    return(NA) # Return NA if the row has only one element\n",
    "  }\n",
    "  \n",
    "  # Ignore the first element\n",
    "  row <- row[-1]\n",
    "  \n",
    "  # Find the position of the first occurrence of 9\n",
    "  position <- which(row == 9)[1]\n",
    "  \n",
    "  if (is.na(position)) {\n",
    "    return(NA) # Return NA if 9 is not found\n",
    "  }\n",
    "  \n",
    "  # Return the position - 1, as we want to exclude the 9 itself\n",
    "  return((position - 1)/2)\n",
    "}"
   ]
  },
  {
   "cell_type": "code",
   "execution_count": 4,
   "id": "dff04a98",
   "metadata": {
    "execution": {
     "iopub.execute_input": "2023-12-09T17:00:37.848173Z",
     "iopub.status.busy": "2023-12-09T17:00:37.846166Z",
     "iopub.status.idle": "2023-12-09T17:00:37.890789Z",
     "shell.execute_reply": "2023-12-09T17:00:37.888430Z"
    },
    "papermill": {
     "duration": 0.067133,
     "end_time": "2023-12-09T17:00:37.894801",
     "exception": false,
     "start_time": "2023-12-09T17:00:37.827668",
     "status": "completed"
    },
    "tags": []
   },
   "outputs": [],
   "source": [
    "#need to find the number of proposals for change\n",
    "pos <- apply(R,1,find_position_of_nine)"
   ]
  },
  {
   "cell_type": "code",
   "execution_count": 5,
   "id": "334c2f02",
   "metadata": {
    "execution": {
     "iopub.execute_input": "2023-12-09T17:00:37.932047Z",
     "iopub.status.busy": "2023-12-09T17:00:37.929972Z",
     "iopub.status.idle": "2023-12-09T17:00:37.951144Z",
     "shell.execute_reply": "2023-12-09T17:00:37.948951Z"
    },
    "papermill": {
     "duration": 0.043825,
     "end_time": "2023-12-09T17:00:37.954977",
     "exception": false,
     "start_time": "2023-12-09T17:00:37.911152",
     "status": "completed"
    },
    "tags": []
   },
   "outputs": [],
   "source": [
    "setConfigurations <- function(){\n",
    "   configs <- vector(mode=\"character\")\n",
    "   configs[1] <- \"Monocular - No Parallax - Mono Audio - Low Resolution - Original Color\"\n",
    "   configs[2] <- \"Monocular - No Parallax - Mono Audio - Low Resolution - Alternative Color\"\n",
    "   configs[3] <- \"Monocular - No Parallax - Mono Audio - High Resolution - Original Color\"\n",
    "   configs[4] <- \"configs[1] <- Monocular - No Parallax - Mono Audio - High Resolution - Alternative Color\"\n",
    "   configs[5] <- \"Monocular - No Parallax - Spatial Audio - Low Resolution - Original Color\"\n",
    "   configs[6] <- \"Monocular - No Parallax - Spatial Audio - Low Resolution - Alternative Color\"\n",
    "   configs[7] <- \"Monocular - No Parallax - Spatial Audio - High Resolution - Original Color\"\n",
    "   configs[8] <- \"Monocular - No Parallax - Spatial Audio - High Resolution - Alternative Color\"\n",
    "   configs[9] <- \"Monocular - Parallax - Mono Audio - Low Resolution - Original Color\"\n",
    "   configs[10] <- \"Monocular - Parallax - Mono Audio - Low Resolution - Alternative Color\"\n",
    "   configs[11] <- \"Monocular - Parallax - Mono Audio - High Resolution - Original Color\"\n",
    "   configs[12] <- \"Monocular - Parallax - Mono Audio - High Resolution - Alternative Color\"\n",
    "   configs[13] <- \"Monocular - Parallax - Spatial Audio - Low Resolution - Original Color\"\n",
    "   configs[14] <- \"Monocular - Parallax - Spatial Audio - Low Resolution - Alternative Color\"\n",
    "   configs[15] <- \"Monocular - Parallax - Spatial Audio - High Resolution - Original Color\"\n",
    "   configs[16] <- \"Monocular - Parallax - Spatial Audio - High Resolution - Alternative Color\"\n",
    "   configs[17] <- \"Stereopsis - No Parallax - Mono Audio - Low Resolution - Original Color\"\n",
    "   configs[18] <- \"Stereopsis - No Parallax - Mono Audio - Low Resolution - Alternative Color\"\n",
    "   configs[19] <- \"Stereopsis - No Parallax - Mono Audio - High Resolution - Original Color\"\n",
    "   configs[20] <- \"Stereopsis - No Parallax - Mono Audio High Resolution - Alternative Color\"\n",
    "   configs[21] <- \"Stereopsis - No Parallax - Spatial Audio - Low Resolution Original Color\"\n",
    "   configs[22] <- \"Stereopsis - No Parallax - Spatial Audio - Low Resolution - Alternative Color\"\n",
    "   configs[23] <- \"Stereopsis - No Parallax - Spatial Audio - High Resolution - Original Color\"\n",
    "   configs[24] <- \"Stereopsis - No Parallax - Spatial Audio - High Resolution - Alternative Color\"\n",
    "   configs[25] <- \"Stereopsis - Parallax - Mono Audio - Low Resolution - Original Color\"\n",
    "   configs[26] <- \"Stereopsis - Parallax - Mono Audio - Low Resolution - Alternative Color\"\n",
    "   configs[27] <- \"Stereopsis - Parallax - Mono Audio - High Resolution - Original Color\"\n",
    "   configs[28] <- \"Stereopsis - Parallax - Mono Audio - High Resolution - Alternative Color\"\n",
    "   configs[29] <- \"Stereopsis - Parallax - Spatial Audio - Low Resolution - Original Color\"\n",
    "   configs[30] <- \"Stereopsis - Parallax - Spatial Audio - Low Resolution - Alternative Color\"\n",
    "   configs[31] <- \"Stereopsis - Parallax - Spatial Audio - High Resolution - Original Color\"\n",
    "   configs[32] <- \"Stereopsis - Parallax - Spatial Audio  -  High Resolution - Alternative Color\"\n",
    "   \n",
    "   return(configs)\n",
    "}"
   ]
  },
  {
   "cell_type": "code",
   "execution_count": 6,
   "id": "a8fd027e",
   "metadata": {
    "execution": {
     "iopub.execute_input": "2023-12-09T17:00:37.990975Z",
     "iopub.status.busy": "2023-12-09T17:00:37.988955Z",
     "iopub.status.idle": "2023-12-09T17:00:38.064678Z",
     "shell.execute_reply": "2023-12-09T17:00:38.062401Z"
    },
    "papermill": {
     "duration": 0.097834,
     "end_time": "2023-12-09T17:00:38.068354",
     "exception": false,
     "start_time": "2023-12-09T17:00:37.970520",
     "status": "completed"
    },
    "tags": []
   },
   "outputs": [],
   "source": [
    "configuration <- setConfigurations() \n",
    "\n",
    "factor_level <- matrix(\"\",nrow=2,ncol=5) #the index into this is [change,accept+1] \n",
    "factor_level[1,1] <- \"MonoVision\"\n",
    "factor_level[1,2] <- \"NoParallax\"\n",
    "factor_level[1,3] <- \"MonoSound\"\n",
    "factor_level[1,4] <- \"LowRes\"\n",
    "factor_level[1,5] <- \"OriginalColour\"\n",
    "\n",
    "factor_level[2,1] <- \"StereoVision\"\n",
    "factor_level[2,2] <- \"Parallax\"\n",
    "factor_level[2,3] <- \"SpatialSound\"\n",
    "factor_level[2,4] <- \"HighRes\"\n",
    "factor_level[2,5] <- \"AltColour\""
   ]
  },
  {
   "cell_type": "code",
   "execution_count": 7,
   "id": "343ca811",
   "metadata": {
    "execution": {
     "iopub.execute_input": "2023-12-09T17:00:38.103848Z",
     "iopub.status.busy": "2023-12-09T17:00:38.101879Z",
     "iopub.status.idle": "2023-12-09T17:00:38.122172Z",
     "shell.execute_reply": "2023-12-09T17:00:38.119849Z"
    },
    "papermill": {
     "duration": 0.042589,
     "end_time": "2023-12-09T17:00:38.126338",
     "exception": false,
     "start_time": "2023-12-09T17:00:38.083749",
     "status": "completed"
    },
    "tags": []
   },
   "outputs": [],
   "source": [
    "intToBinary <- function(n) {\n",
    "  if (n == 0) return(\"0\")\n",
    "  \n",
    "  bits <- rev(as.integer(intToBits(n)))\n",
    "  start <- which(bits == 1)[1]\n",
    "  paste0(bits[start:length(bits)], collapse = \"\")\n",
    "}"
   ]
  },
  {
   "cell_type": "code",
   "execution_count": 8,
   "id": "fcd7870a",
   "metadata": {
    "execution": {
     "iopub.execute_input": "2023-12-09T17:00:38.162719Z",
     "iopub.status.busy": "2023-12-09T17:00:38.160652Z",
     "iopub.status.idle": "2023-12-09T17:00:38.189298Z",
     "shell.execute_reply": "2023-12-09T17:00:38.187053Z"
    },
    "papermill": {
     "duration": 0.051127,
     "end_time": "2023-12-09T17:00:38.193175",
     "exception": false,
     "start_time": "2023-12-09T17:00:38.142048",
     "status": "completed"
    },
    "tags": []
   },
   "outputs": [],
   "source": [
    "N <- dim(R)\n",
    "m <- N[1]\n",
    "n <- N[2]\n",
    "config <- matrix(-1,nrow = m, ncol = n)\n",
    "changeAccept <- matrix(0,nrow=2,ncol=5) #first row means no change, second row change\n"
   ]
  },
  {
   "cell_type": "code",
   "execution_count": 9,
   "id": "13e6c1ce",
   "metadata": {
    "execution": {
     "iopub.execute_input": "2023-12-09T17:00:38.229649Z",
     "iopub.status.busy": "2023-12-09T17:00:38.227596Z",
     "iopub.status.idle": "2023-12-09T17:00:38.251795Z",
     "shell.execute_reply": "2023-12-09T17:00:38.249535Z"
    },
    "papermill": {
     "duration": 0.046837,
     "end_time": "2023-12-09T17:00:38.255612",
     "exception": false,
     "start_time": "2023-12-09T17:00:38.208775",
     "status": "completed"
    },
    "tags": []
   },
   "outputs": [],
   "source": [
    "#outcomes - the rows are vision, parallax, sound, resolution, colour\n",
    "#the columns are 0->0 0->1 1->0 1->1\n",
    "#a -> b meaning the configuration was in a but moved to b.\n",
    "outcomes <- matrix(0,nrow=5,ncol=4)\n",
    "#transition matrix\n",
    "P <- matrix(0,nrow=32,ncol=32)"
   ]
  },
  {
   "cell_type": "code",
   "execution_count": 10,
   "id": "1747e4b3",
   "metadata": {
    "execution": {
     "iopub.execute_input": "2023-12-09T17:00:38.294635Z",
     "iopub.status.busy": "2023-12-09T17:00:38.292605Z",
     "iopub.status.idle": "2023-12-09T17:00:38.313179Z",
     "shell.execute_reply": "2023-12-09T17:00:38.310867Z"
    },
    "papermill": {
     "duration": 0.044539,
     "end_time": "2023-12-09T17:00:38.317097",
     "exception": false,
     "start_time": "2023-12-09T17:00:38.272558",
     "status": "completed"
    },
    "tags": []
   },
   "outputs": [],
   "source": [
    "# n is the integer number\n",
    "# position is the bit position you want to check (0-indexed, i.e., rightmost bit is 0)\n",
    "check_bit <- function(n, position) {\n",
    "  return(bitwAnd(n, 2**(5-position))>0)\n",
    "}"
   ]
  },
  {
   "cell_type": "code",
   "execution_count": 11,
   "id": "f896f5d5",
   "metadata": {
    "execution": {
     "iopub.execute_input": "2023-12-09T17:00:38.353241Z",
     "iopub.status.busy": "2023-12-09T17:00:38.351077Z",
     "iopub.status.idle": "2023-12-09T17:00:38.376159Z",
     "shell.execute_reply": "2023-12-09T17:00:38.373815Z"
    },
    "papermill": {
     "duration": 0.047671,
     "end_time": "2023-12-09T17:00:38.380210",
     "exception": false,
     "start_time": "2023-12-09T17:00:38.332539",
     "status": "completed"
    },
    "tags": []
   },
   "outputs": [],
   "source": [
    "#create a file for storing the individual outcomes\n",
    "#change, enabled, accept\n",
    "f <- file(\"result_binary.csv\", \"w\")\n",
    "writeLines(\"change,enabled,accept\", f)\n",
    "#change is the factor to be changed"
   ]
  },
  {
   "cell_type": "code",
   "execution_count": 12,
   "id": "9121c431",
   "metadata": {
    "execution": {
     "iopub.execute_input": "2023-12-09T17:00:38.445052Z",
     "iopub.status.busy": "2023-12-09T17:00:38.414367Z",
     "iopub.status.idle": "2023-12-09T17:00:38.562503Z",
     "shell.execute_reply": "2023-12-09T17:00:38.560150Z"
    },
    "papermill": {
     "duration": 0.170373,
     "end_time": "2023-12-09T17:00:38.566228",
     "exception": false,
     "start_time": "2023-12-09T17:00:38.395855",
     "status": "completed"
    },
    "tags": []
   },
   "outputs": [
    {
     "name": "stdout",
     "output_type": "stream",
     "text": [
      "1010  1010  1110  1110  1110  1110  1110  11110  11110  11110  11110  11110  11110  11110  \n",
      "1101  1100  100  101  1101  1101  1111  1110  1110  1111  1111  1110  1110  1111  1111  1110  \n",
      "101  101  100  1100  1100  1110  1110  1110  1110  1110  110  110  110  110  110  \n",
      "101  101  101  101  101  101  101  101  101  101  101  101  101  \n",
      "11100  11101  11111  11111  11111  11111  11111  11111  11111  11111  \n",
      "1111  1110  1110  1111  1111  1110  1110  1110  1110  1110  1110  1111  1111  1110  1110  1110  1110  1111  1111  1110  1010  1010  1110  \n",
      "1110  1111  1111  1111  1111  1111  1111  1111  1111  1111  \n",
      "10110  10110  10110  10110  10110  10110  10110  10110  10110  10110  \n",
      "1101  1111  1111  1111  1111  111  110  110  110  110  110  10110  10110  10110  10110  10110  10110  10110  10110  10110  \n",
      "10111  10110  10110  10110  10110  10110  10110  10110  10110  10110  \n",
      "1001  1001  1101  1100  1100  1110  1110  1110  1110  110  111  111  111  111  111  111  10111  10111  10111  10111  10111  10111  10111  \n",
      "101  100  110  110  110  110  1110  1110  1110  1110  1110  11110  11110  11110  11110  11110  \n",
      "10100  10101  11101  11101  11111  11111  11111  11111  11111  1111  1110  1110  1111  1111  1111  1111  1111  11111  11111  11111  11111  11111  11111  \n",
      "10010  10011  10011  11011  11011  11011  11011  11111  11111  11111  11111  11111  11111  11111  11110  11110  11110  11110  11110  11110  11111  \n",
      "110  110  110  1110  1111  1111  1111  1111  1111  1111  1111  1111  1111  \n",
      "110  111  111  111  111  1111  1110  1110  1110  1110  1110  1110  11110  11110  11110  11110  11110  11110  11110  11110  11110  \n",
      "11110  11111  11111  11110  11110  11111  11111  11111  11111  10111  10111  10111  10011  10010  10010  10011  10111  10111  10111  11111  11111  11111  \n",
      "11111  11111  11111  10111  10111  10111  10111  11111  11111  11111  1111  1111  1111  1111  1111  1111  11111  11111  11111  11111  11111  \n",
      "10  11  11  10  10  10  110  110  110  110  110  110  10110  10110  10110  10110  10110  11110  11110  11110  \n",
      "1011  1011  1011  1011  1111  1110  1110  1110  1110  1110  1110  1110  1110  1110  \n",
      "1010  1011  1011  1010  10  10  1010  1010  1010  1010  1110  1111  1111  1110  1110  1110  1110  1110  \n",
      "10111  10101  10100  11100  11101  11111  11110  11110  11110  11110  11110  11110  11110  11110  11110  \n",
      "10011  10111  10110  11110  11110  11110  11110  11110  11110  11110  11110  11110  \n",
      "1011  1010  1010  1010  1110  1110  1110  1110  1110  1110  11110  11110  11110  11110  11110  11110  11110  11110  11110  \n",
      "1100  1101  1101  1100  1100  1100  1110  1110  1110  1110  1110  11110  11110  11110  11110  11110  11110  11110  11110  \n"
     ]
    }
   ],
   "source": [
    "for(i in 1:m){\n",
    "  #get the initial configuration\n",
    "  init <- R[i,1]\n",
    "  config[i,1] <- R[i,1]\n",
    "  for(j in seq(from=2,to=n,by=2)){\n",
    "    #each subsequent pair are the proposed change and whether it is accepted or not\n",
    "    #a 9 means that there are no subsequent changes so stop this row\n",
    "    change <- R[i,j]\n",
    "    if(change != 9){#there are more to come\n",
    "      #is that feature already enabled?\n",
    "      enabled <- check_bit(init,change)\n",
    "      accept <- R[i,j+1] #accept==0 means no change, accept==1 means change\n",
    "      if(!enabled & accept==0){#no change from 0 to 0:      0->0\n",
    "        outcomes[change,1] <- outcomes[change,1] + 1\n",
    "      }\n",
    "      else if(!enabled & accept==1){# change from 0 to 1:   0->1\n",
    "        outcomes[change,2] <- outcomes[change,2] + 1\n",
    "      }\n",
    "      else if(enabled & accept==0){#change from 1 to 0:     1->0\n",
    "        outcomes[change,3] <- outcomes[change,3] + 1\n",
    "      }\n",
    "      else{#enabled & accept==1 change from 1 to 0:         1->1\n",
    "        outcomes[change,4] <- outcomes[change,4] + 1\n",
    "      }\n",
    "      changeAccept[accept + 1,change] <- changeAccept[accept + 1,change] + 1\n",
    "      newconfig <- bitwXor(init,(2**(5-change))*accept)\n",
    "      P[init+1,newconfig+1] = P[init+1,newconfig+1] + 1 #transition\n",
    "      init <- newconfig\n",
    "      config[i,(j %/% 2)+1] <- init\n",
    "      cat(cat(intToBinary(init)),' ')\n",
    "      \n",
    "      #write to the file\n",
    "      line <- paste(change, as.integer(enabled), accept, sep = \",\")\n",
    "      writeLines(line, f)\n",
    "    }\n",
    "    else break\n",
    "  }\n",
    "  cat(\"\\n\")\n",
    "}\n",
    "close(f)\n"
   ]
  },
  {
   "cell_type": "code",
   "execution_count": 13,
   "id": "7d1bd277",
   "metadata": {
    "execution": {
     "iopub.execute_input": "2023-12-09T17:00:38.602735Z",
     "iopub.status.busy": "2023-12-09T17:00:38.600659Z",
     "iopub.status.idle": "2023-12-09T17:00:38.635878Z",
     "shell.execute_reply": "2023-12-09T17:00:38.633089Z"
    },
    "papermill": {
     "duration": 0.057339,
     "end_time": "2023-12-09T17:00:38.639405",
     "exception": false,
     "start_time": "2023-12-09T17:00:38.582066",
     "status": "completed"
    },
    "tags": []
   },
   "outputs": [
    {
     "data": {
      "text/html": [
       "<style>\n",
       ".list-inline {list-style: none; margin:0; padding: 0}\n",
       ".list-inline>li {display: inline-block}\n",
       ".list-inline>li:not(:last-child)::after {content: \"\\00b7\"; padding: 0 .5ex}\n",
       "</style>\n",
       "<ol class=list-inline><li>37</li><li>82</li><li>83</li><li>90</li><li>126</li></ol>\n"
      ],
      "text/latex": [
       "\\begin{enumerate*}\n",
       "\\item 37\n",
       "\\item 82\n",
       "\\item 83\n",
       "\\item 90\n",
       "\\item 126\n",
       "\\end{enumerate*}\n"
      ],
      "text/markdown": [
       "1. 37\n",
       "2. 82\n",
       "3. 83\n",
       "4. 90\n",
       "5. 126\n",
       "\n",
       "\n"
      ],
      "text/plain": [
       "[1]  37  82  83  90 126"
      ]
     },
     "metadata": {},
     "output_type": "display_data"
    },
    {
     "data": {
      "text/html": [
       "<style>\n",
       ".list-inline {list-style: none; margin:0; padding: 0}\n",
       ".list-inline>li {display: inline-block}\n",
       ".list-inline>li:not(:last-child)::after {content: \"\\00b7\"; padding: 0 .5ex}\n",
       "</style>\n",
       "<ol class=list-inline><li>37</li><li>82</li><li>83</li><li>90</li><li>126</li></ol>\n"
      ],
      "text/latex": [
       "\\begin{enumerate*}\n",
       "\\item 37\n",
       "\\item 82\n",
       "\\item 83\n",
       "\\item 90\n",
       "\\item 126\n",
       "\\end{enumerate*}\n"
      ],
      "text/markdown": [
       "1. 37\n",
       "2. 82\n",
       "3. 83\n",
       "4. 90\n",
       "5. 126\n",
       "\n",
       "\n"
      ],
      "text/plain": [
       "[1]  37  82  83  90 126"
      ]
     },
     "metadata": {},
     "output_type": "display_data"
    }
   ],
   "source": [
    "#note that \n",
    "colSums(changeAccept) #is the total number of changes suggested by factor irrespective of current state\n",
    "rowSums(outcomes) #is the same, summing over all states\n"
   ]
  },
  {
   "cell_type": "code",
   "execution_count": 14,
   "id": "d73fa75c",
   "metadata": {
    "execution": {
     "iopub.execute_input": "2023-12-09T17:00:38.677910Z",
     "iopub.status.busy": "2023-12-09T17:00:38.675847Z",
     "iopub.status.idle": "2023-12-09T17:00:38.711716Z",
     "shell.execute_reply": "2023-12-09T17:00:38.709380Z"
    },
    "papermill": {
     "duration": 0.059598,
     "end_time": "2023-12-09T17:00:38.715726",
     "exception": false,
     "start_time": "2023-12-09T17:00:38.656128",
     "status": "completed"
    },
    "tags": []
   },
   "outputs": [],
   "source": [
    "#outcomes is 0->0, 0->1, 1->0, 1->1 by factor \n",
    "#so outcomes[i,1] + outcomes[i,2] is the total number of times a change was proposed when factor i was off\n",
    "# outcomes[i,3] + outcomes[i,4] is the total number when factor was on\n",
    "propTimesChange <- matrix(0,nrow=5,ncol=2)\n",
    "for(i in 1:5){\n",
    "  s <- outcomes[i,1] + outcomes[i,2] #change proposed when i off\n",
    "  propTimesChange[i,1] <- outcomes[i,2]/s\n",
    "  s <- outcomes[i,3] + outcomes[i,4] #change proposed when i on\n",
    "  propTimesChange[i,2] <- outcomes[i,4]/s\n",
    "}\n",
    "#propTimesChange[i,1] = proportion of times changed when i is off\n",
    "#propTimesChange[i,2] = proportion of times changed when i is on\n",
    "#For statistical analysis we need the binary variable 'accept' which\n",
    "#is 0 or 1. For each trial we have the associated factor (condition) \n",
    "#1,2,...,5 and whether it was off (0) or on (1).\n",
    "#In the above loop these are the variables\n",
    "#change enabled accept and stored in the file result_binary.csv\n",
    "\n"
   ]
  },
  {
   "cell_type": "code",
   "execution_count": 15,
   "id": "a4b252b8",
   "metadata": {
    "execution": {
     "iopub.execute_input": "2023-12-09T17:00:38.754890Z",
     "iopub.status.busy": "2023-12-09T17:00:38.752866Z",
     "iopub.status.idle": "2023-12-09T17:00:38.776890Z",
     "shell.execute_reply": "2023-12-09T17:00:38.774653Z"
    },
    "papermill": {
     "duration": 0.048178,
     "end_time": "2023-12-09T17:00:38.780819",
     "exception": false,
     "start_time": "2023-12-09T17:00:38.732641",
     "status": "completed"
    },
    "tags": []
   },
   "outputs": [],
   "source": [
    "result_binary <- read.csv(\"result_binary.csv\")\n",
    "rb <- result_binary\n",
    "#note that sum(rb$accept[rb$change==5 & rb$enabled==1] == 1), must be equal to outcomes[5,4], etc."
   ]
  },
  {
   "cell_type": "code",
   "execution_count": 16,
   "id": "04042b05",
   "metadata": {
    "execution": {
     "iopub.execute_input": "2023-12-09T17:00:38.818116Z",
     "iopub.status.busy": "2023-12-09T17:00:38.816175Z",
     "iopub.status.idle": "2023-12-09T17:00:38.843464Z",
     "shell.execute_reply": "2023-12-09T17:00:38.841290Z"
    },
    "papermill": {
     "duration": 0.049976,
     "end_time": "2023-12-09T17:00:38.847162",
     "exception": false,
     "start_time": "2023-12-09T17:00:38.797186",
     "status": "completed"
    },
    "tags": []
   },
   "outputs": [],
   "source": [
    "acceptdata <- list(\n",
    "                  n = length(rb$change),\n",
    "                  monovision = as.integer(rb$change==1)*(1-rb$enabled),\n",
    "                  stereovision = as.integer(rb$change==1)*rb$enabled,\n",
    "                  noparallax = as.integer(rb$change==2)*(1-rb$enabled),\n",
    "                  parallax = as.integer(rb$change==2)*rb$enabled,\n",
    "                  monosound = as.integer(rb$change==3)*(1-rb$enabled),\n",
    "                  spatialsound = as.integer(rb$change==3)*rb$enabled,\n",
    "                  lowres = as.integer(rb$change==4)*(1-rb$enabled),\n",
    "                  highres = as.integer(rb$change==4)*rb$enabled,\n",
    "                  origcolour = as.integer(rb$change==5)*(1-rb$enabled),\n",
    "                  newcolour = as.integer(rb$change==5)*rb$enabled,\n",
    "                  accept = rb$accept\n",
    ")\n"
   ]
  },
  {
   "cell_type": "code",
   "execution_count": 17,
   "id": "520cbb20",
   "metadata": {
    "execution": {
     "iopub.execute_input": "2023-12-09T17:00:38.885741Z",
     "iopub.status.busy": "2023-12-09T17:00:38.883582Z",
     "iopub.status.idle": "2023-12-09T17:00:40.898926Z",
     "shell.execute_reply": "2023-12-09T17:00:40.882339Z"
    },
    "papermill": {
     "duration": 2.038836,
     "end_time": "2023-12-09T17:00:40.902076",
     "exception": false,
     "start_time": "2023-12-09T17:00:38.863240",
     "status": "completed"
    },
    "tags": []
   },
   "outputs": [
    {
     "name": "stderr",
     "output_type": "stream",
     "text": [
      "Loading required package: StanHeaders\n",
      "\n",
      "\n",
      "rstan version 2.32.3 (Stan version 2.26.1)\n",
      "\n",
      "\n",
      "For execution on a local, multicore CPU with excess RAM we recommend calling\n",
      "options(mc.cores = parallel::detectCores()).\n",
      "To avoid recompilation of unchanged Stan programs, we recommend calling\n",
      "rstan_options(auto_write = TRUE)\n",
      "For within-chain threading using `reduce_sum()` or `map_rect()` Stan functions,\n",
      "change `threads_per_chain` option:\n",
      "rstan_options(threads_per_chain = 1)\n",
      "\n",
      "\n",
      "\n",
      "Attaching package: ‘rstan’\n",
      "\n",
      "\n",
      "The following object is masked from ‘package:tidyr’:\n",
      "\n",
      "    extract\n",
      "\n",
      "\n"
     ]
    }
   ],
   "source": [
    "#Now the analysis with Stan\n",
    "library(\"rstan\")\n",
    "options(mc.cores = parallel::detectCores())\n",
    "rstan_options(auto_write = TRUE)\n"
   ]
  },
  {
   "cell_type": "code",
   "execution_count": 18,
   "id": "df237362",
   "metadata": {
    "execution": {
     "iopub.execute_input": "2023-12-09T17:00:40.941906Z",
     "iopub.status.busy": "2023-12-09T17:00:40.939235Z",
     "iopub.status.idle": "2023-12-09T17:00:40.958925Z",
     "shell.execute_reply": "2023-12-09T17:00:40.956680Z"
    },
    "papermill": {
     "duration": 0.042675,
     "end_time": "2023-12-09T17:00:40.962155",
     "exception": false,
     "start_time": "2023-12-09T17:00:40.919480",
     "status": "completed"
    },
    "tags": []
   },
   "outputs": [],
   "source": [
    "stan_model <- \"\n",
    "// For the binary variable accept\n",
    "data {\n",
    "  int<lower=0> n; // number of observations\n",
    "  int<lower=0, upper=1> accept[n]; // binary outcome\n",
    "  int<lower=0, upper=1> monovision[n];\n",
    "  int<lower=0, upper=1> stereovision[n];\n",
    "  int<lower=0, upper=1> noparallax[n];\n",
    "  int<lower=0, upper=1> parallax[n];\n",
    "  int<lower=0, upper=1> monosound[n];\n",
    "  int<lower=0, upper=1> spatialsound[n];\n",
    "  int<lower=0, upper=1> lowres[n];\n",
    "  int<lower=0, upper=1> highres[n];\n",
    "  int<lower=0, upper=1> origcolour[n];\n",
    "  int<lower=0, upper=1> newcolour[n];\n",
    "}\n",
    "\n",
    "transformed data{\n",
    "  int k = 5; //number of parameters\n",
    "}\n",
    "\n",
    "parameters {\n",
    "  real a0;\n",
    "  real a1;\n",
    "  vector[k] b0;\n",
    "  vector[k] b1;\n",
    "}\n",
    "\n",
    "model {\n",
    "  real m0;\n",
    "  real m1;\n",
    "  a0 ~ normal(0,10);\n",
    "  a1 ~ normal(0,10);\n",
    "  b0 ~ normal(0,10);\n",
    "  b1 ~ normal(0,10);\n",
    "  for(i in 1:n){\n",
    "    /*\n",
    "    accept[i] ~ bernoulli_logit(a + b[1]*monovision[i] + b[2]*stereovision[i]\n",
    "                        + b[3]*noparallax[i] + b[4]*parallax[i] \n",
    "                        + b[5]*monosound[i] + b[6]*spatialsound[i] \n",
    "                        + b[7]*lowres[i] + b[8]*highres[i] \n",
    "                        + b[9]*origcolour[i]);\n",
    "    */\n",
    "    m0 = a0 + b0[1]*monovision[i] + b0[2]*noparallax[i] + b0[3]*monosound[i] +  b0[4]*lowres[i] + b0[5]*origcolour[i];\n",
    "    m1 = a1 + b1[1]*stereovision[i] + b1[2]*parallax[i] + b1[3]*spatialsound[i] +  b1[4]*highres[i] + b1[5]*newcolour[i];\n",
    "    accept[i] ~ bernoulli_logit(m0);\n",
    "    accept[i] ~ bernoulli_logit(m1);\n",
    "  }\n",
    "}\n",
    "\n",
    "generated quantities {\n",
    "  vector[n] accept_new0;\n",
    "  vector[n] accept_new1;\n",
    "  vector[n] log_lik_accept0;\n",
    "  vector[n] log_lik_accept1;\n",
    "  real m0;\n",
    "  real m1;\n",
    "\n",
    "  for(i in 1:n){\n",
    "    /*\n",
    "    m = a + b[1]*monovision[i] + b[2]*stereovision[i]\n",
    "          + b[3]*noparallax[i] + b[4]*parallax[i] \n",
    "          + b[5]*monosound[i] + b[6]*spatialsound[i] \n",
    "          + b[7]*lowres[i] + b[8]*highres[i] \n",
    "          + b[9]*origcolour[i];\n",
    "    */\n",
    "    m0 = a0 + b0[1]*monovision[i] + b0[2]*noparallax[i] + b0[3]*monosound[i] +  b0[4]*lowres[i] + b0[5]*origcolour[i];\n",
    "    m1 = a1 + b1[1]*stereovision[i] + b1[2]*parallax[i] + b1[3]*spatialsound[i] +  b1[4]*highres[i] + b1[5]*newcolour[i];\n",
    "    accept_new0[i] = bernoulli_logit_rng(m0);\n",
    "    accept_new1[i] = bernoulli_logit_rng(m1);\n",
    "    log_lik_accept0[i] = bernoulli_logit_lpmf(accept[i]|m0);\n",
    "    log_lik_accept1[i] = bernoulli_logit_lpmf(accept[i]|m1);\n",
    "  }\n",
    "}\n",
    "\""
   ]
  },
  {
   "cell_type": "code",
   "execution_count": 19,
   "id": "d844fb22",
   "metadata": {
    "execution": {
     "iopub.execute_input": "2023-12-09T17:00:41.003182Z",
     "iopub.status.busy": "2023-12-09T17:00:41.001110Z",
     "iopub.status.idle": "2023-12-09T17:03:44.766651Z",
     "shell.execute_reply": "2023-12-09T17:03:44.764163Z"
    },
    "papermill": {
     "duration": 183.791624,
     "end_time": "2023-12-09T17:03:44.771282",
     "exception": false,
     "start_time": "2023-12-09T17:00:40.979658",
     "status": "completed"
    },
    "tags": []
   },
   "outputs": [],
   "source": [
    "fit <- stan (model_code = stan_model, # Stan program\n",
    "            data = acceptdata, # named list of data\n",
    "            chains = 4, # number of Markov chains\n",
    "            iter = 2000, # total number of iterations per chain\n",
    "            cores = 4, \n",
    "            seed=54321)"
   ]
  },
  {
   "cell_type": "code",
   "execution_count": 20,
   "id": "fe84c2c0",
   "metadata": {
    "execution": {
     "iopub.execute_input": "2023-12-09T17:03:44.817503Z",
     "iopub.status.busy": "2023-12-09T17:03:44.815476Z",
     "iopub.status.idle": "2023-12-09T17:03:50.384231Z",
     "shell.execute_reply": "2023-12-09T17:03:50.381996Z"
    },
    "papermill": {
     "duration": 5.591987,
     "end_time": "2023-12-09T17:03:50.387356",
     "exception": false,
     "start_time": "2023-12-09T17:03:44.795369",
     "status": "completed"
    },
    "tags": []
   },
   "outputs": [
    {
     "name": "stdout",
     "output_type": "stream",
     "text": [
      "Inference for Stan model: anon_model.\n",
      "4 chains, each with iter=2000; warmup=1000; thin=1; \n",
      "post-warmup draws per chain=1000, total post-warmup draws=4000.\n",
      "\n",
      "       mean se_mean   sd  2.5% 97.5% n_eff Rhat\n",
      "a0    -1.77    0.00 0.17 -2.11 -1.44  2632    1\n",
      "b0[1]  2.31    0.01 0.57  1.25  3.46  3622    1\n",
      "b0[2]  1.84    0.01 0.41  1.04  2.65  3228    1\n",
      "b0[3] 11.28    0.13 5.32  4.28 24.25  1792    1\n",
      "b0[4]  2.86    0.01 0.65  1.65  4.21  3825    1\n",
      "b0[5]  1.07    0.01 0.31  0.45  1.68  2650    1\n",
      "a1     0.05    0.00 0.17 -0.27  0.38  2752    1\n",
      "b1[1] -2.53    0.02 0.84 -4.42 -1.12  2549    1\n",
      "b1[2] -1.83    0.01 0.43 -2.71 -1.03  3490    1\n",
      "b1[3] -3.75    0.01 0.78 -5.51 -2.44  2872    1\n",
      "b1[4] -4.84    0.02 1.25 -7.84 -2.94  2566    1\n",
      "b1[5] -0.16    0.01 0.31 -0.76  0.46  2982    1\n",
      "\n",
      "Samples were drawn using NUTS(diag_e) at Sat Dec  9 17:03:31 2023.\n",
      "For each parameter, n_eff is a crude measure of effective sample size,\n",
      "and Rhat is the potential scale reduction factor on split chains (at \n",
      "convergence, Rhat=1).\n"
     ]
    }
   ],
   "source": [
    "print(fit, pars=c(\"a0\",\"b0\",\"a1\",\"b1\"), probs=c(.025,.975))"
   ]
  },
  {
   "cell_type": "code",
   "execution_count": 21,
   "id": "ec3d8c67",
   "metadata": {
    "execution": {
     "iopub.execute_input": "2023-12-09T17:03:50.425689Z",
     "iopub.status.busy": "2023-12-09T17:03:50.423817Z",
     "iopub.status.idle": "2023-12-09T17:03:50.769455Z",
     "shell.execute_reply": "2023-12-09T17:03:50.767158Z"
    },
    "papermill": {
     "duration": 0.368423,
     "end_time": "2023-12-09T17:03:50.772610",
     "exception": false,
     "start_time": "2023-12-09T17:03:50.404187",
     "status": "completed"
    },
    "tags": []
   },
   "outputs": [],
   "source": [
    "e <- rstan::extract(fit)"
   ]
  },
  {
   "cell_type": "code",
   "execution_count": 22,
   "id": "ca22edd3",
   "metadata": {
    "execution": {
     "iopub.execute_input": "2023-12-09T17:03:50.811402Z",
     "iopub.status.busy": "2023-12-09T17:03:50.809569Z",
     "iopub.status.idle": "2023-12-09T17:03:50.831495Z",
     "shell.execute_reply": "2023-12-09T17:03:50.828994Z"
    },
    "papermill": {
     "duration": 0.044384,
     "end_time": "2023-12-09T17:03:50.834517",
     "exception": false,
     "start_time": "2023-12-09T17:03:50.790133",
     "status": "completed"
    },
    "tags": []
   },
   "outputs": [
    {
     "data": {
      "text/html": [
       "<style>\n",
       ".list-inline {list-style: none; margin:0; padding: 0}\n",
       ".list-inline>li {display: inline-block}\n",
       ".list-inline>li:not(:last-child)::after {content: \"\\00b7\"; padding: 0 .5ex}\n",
       "</style>\n",
       "<ol class=list-inline><li>'a0'</li><li>'a1'</li><li>'b0'</li><li>'b1'</li><li>'accept_new0'</li><li>'accept_new1'</li><li>'log_lik_accept0'</li><li>'log_lik_accept1'</li><li>'m0'</li><li>'m1'</li><li>'lp__'</li></ol>\n"
      ],
      "text/latex": [
       "\\begin{enumerate*}\n",
       "\\item 'a0'\n",
       "\\item 'a1'\n",
       "\\item 'b0'\n",
       "\\item 'b1'\n",
       "\\item 'accept\\_new0'\n",
       "\\item 'accept\\_new1'\n",
       "\\item 'log\\_lik\\_accept0'\n",
       "\\item 'log\\_lik\\_accept1'\n",
       "\\item 'm0'\n",
       "\\item 'm1'\n",
       "\\item 'lp\\_\\_'\n",
       "\\end{enumerate*}\n"
      ],
      "text/markdown": [
       "1. 'a0'\n",
       "2. 'a1'\n",
       "3. 'b0'\n",
       "4. 'b1'\n",
       "5. 'accept_new0'\n",
       "6. 'accept_new1'\n",
       "7. 'log_lik_accept0'\n",
       "8. 'log_lik_accept1'\n",
       "9. 'm0'\n",
       "10. 'm1'\n",
       "11. 'lp__'\n",
       "\n",
       "\n"
      ],
      "text/plain": [
       " [1] \"a0\"              \"a1\"              \"b0\"              \"b1\"             \n",
       " [5] \"accept_new0\"     \"accept_new1\"     \"log_lik_accept0\" \"log_lik_accept1\"\n",
       " [9] \"m0\"              \"m1\"              \"lp__\"           "
      ]
     },
     "metadata": {},
     "output_type": "display_data"
    }
   ],
   "source": [
    "names(e)"
   ]
  },
  {
   "cell_type": "code",
   "execution_count": 23,
   "id": "533688a9",
   "metadata": {
    "execution": {
     "iopub.execute_input": "2023-12-09T17:03:50.915295Z",
     "iopub.status.busy": "2023-12-09T17:03:50.913339Z",
     "iopub.status.idle": "2023-12-09T17:03:50.931568Z",
     "shell.execute_reply": "2023-12-09T17:03:50.929518Z"
    },
    "papermill": {
     "duration": 0.083106,
     "end_time": "2023-12-09T17:03:50.934600",
     "exception": false,
     "start_time": "2023-12-09T17:03:50.851494",
     "status": "completed"
    },
    "tags": []
   },
   "outputs": [],
   "source": [
    "probsGT0 <- function(param){\n",
    "  #finds probs of parameter values > 0\n",
    "  options(digits=3)\n",
    "  m <- dim(param)\n",
    "  N <- m[1] #size of the sample\n",
    "  k <- m[2] #number of parameters\n",
    "  \n",
    "  prob <- vector()\n",
    "  for(i in 1:k){\n",
    "    p <-sum(param[,i]>0)/N\n",
    "    prob <- c(prob,p)\n",
    "    print(p)\n",
    "  }\n",
    "  return(prob)\n",
    "}\n"
   ]
  },
  {
   "cell_type": "code",
   "execution_count": 24,
   "id": "06541733",
   "metadata": {
    "execution": {
     "iopub.execute_input": "2023-12-09T17:03:50.973103Z",
     "iopub.status.busy": "2023-12-09T17:03:50.971328Z",
     "iopub.status.idle": "2023-12-09T17:03:51.076686Z",
     "shell.execute_reply": "2023-12-09T17:03:51.074619Z"
    },
    "papermill": {
     "duration": 0.127866,
     "end_time": "2023-12-09T17:03:51.079446",
     "exception": false,
     "start_time": "2023-12-09T17:03:50.951580",
     "status": "completed"
    },
    "tags": []
   },
   "outputs": [
    {
     "data": {
      "text/html": [
       "0"
      ],
      "text/latex": [
       "0"
      ],
      "text/markdown": [
       "0"
      ],
      "text/plain": [
       "[1] 0"
      ]
     },
     "metadata": {},
     "output_type": "display_data"
    },
    {
     "name": "stdout",
     "output_type": "stream",
     "text": [
      "[1] 1\n",
      "[1] 1\n",
      "[1] 1\n",
      "[1] 1\n",
      "[1] 1\n"
     ]
    },
    {
     "data": {
      "text/html": [
       "<style>\n",
       ".list-inline {list-style: none; margin:0; padding: 0}\n",
       ".list-inline>li {display: inline-block}\n",
       ".list-inline>li:not(:last-child)::after {content: \"\\00b7\"; padding: 0 .5ex}\n",
       "</style>\n",
       "<ol class=list-inline><li>1</li><li>1</li><li>1</li><li>1</li><li>0.99975</li></ol>\n"
      ],
      "text/latex": [
       "\\begin{enumerate*}\n",
       "\\item 1\n",
       "\\item 1\n",
       "\\item 1\n",
       "\\item 1\n",
       "\\item 0.99975\n",
       "\\end{enumerate*}\n"
      ],
      "text/markdown": [
       "1. 1\n",
       "2. 1\n",
       "3. 1\n",
       "4. 1\n",
       "5. 0.99975\n",
       "\n",
       "\n"
      ],
      "text/plain": [
       "[1] 1 1 1 1 1"
      ]
     },
     "metadata": {},
     "output_type": "display_data"
    },
    {
     "data": {
      "text/html": [
       "0.6185"
      ],
      "text/latex": [
       "0.6185"
      ],
      "text/markdown": [
       "0.6185"
      ],
      "text/plain": [
       "[1] 0.619"
      ]
     },
     "metadata": {},
     "output_type": "display_data"
    },
    {
     "name": "stdout",
     "output_type": "stream",
     "text": [
      "[1] 0\n",
      "[1] 0\n",
      "[1] 0\n",
      "[1] 0\n",
      "[1] 0.306\n"
     ]
    },
    {
     "data": {
      "text/html": [
       "<style>\n",
       ".list-inline {list-style: none; margin:0; padding: 0}\n",
       ".list-inline>li {display: inline-block}\n",
       ".list-inline>li:not(:last-child)::after {content: \"\\00b7\"; padding: 0 .5ex}\n",
       "</style>\n",
       "<ol class=list-inline><li>0</li><li>0</li><li>0</li><li>0</li><li>0.3065</li></ol>\n"
      ],
      "text/latex": [
       "\\begin{enumerate*}\n",
       "\\item 0\n",
       "\\item 0\n",
       "\\item 0\n",
       "\\item 0\n",
       "\\item 0.3065\n",
       "\\end{enumerate*}\n"
      ],
      "text/markdown": [
       "1. 0\n",
       "2. 0\n",
       "3. 0\n",
       "4. 0\n",
       "5. 0.3065\n",
       "\n",
       "\n"
      ],
      "text/plain": [
       "[1] 0.000 0.000 0.000 0.000 0.306"
      ]
     },
     "metadata": {},
     "output_type": "display_data"
    },
    {
     "data": {
      "text/html": [
       "0.98225"
      ],
      "text/latex": [
       "0.98225"
      ],
      "text/markdown": [
       "0.98225"
      ],
      "text/plain": [
       "[1] 0.982"
      ]
     },
     "metadata": {},
     "output_type": "display_data"
    },
    {
     "data": {
      "text/html": [
       "0.9585"
      ],
      "text/latex": [
       "0.9585"
      ],
      "text/markdown": [
       "0.9585"
      ],
      "text/plain": [
       "[1] 0.959"
      ]
     },
     "metadata": {},
     "output_type": "display_data"
    },
    {
     "data": {
      "text/html": [
       "1"
      ],
      "text/latex": [
       "1"
      ],
      "text/markdown": [
       "1"
      ],
      "text/plain": [
       "[1] 1"
      ]
     },
     "metadata": {},
     "output_type": "display_data"
    },
    {
     "data": {
      "text/html": [
       "0.99775"
      ],
      "text/latex": [
       "0.99775"
      ],
      "text/markdown": [
       "0.99775"
      ],
      "text/plain": [
       "[1] 0.998"
      ]
     },
     "metadata": {},
     "output_type": "display_data"
    },
    {
     "data": {
      "text/html": [
       "0.99925"
      ],
      "text/latex": [
       "0.99925"
      ],
      "text/markdown": [
       "0.99925"
      ],
      "text/plain": [
       "[1] 0.999"
      ]
     },
     "metadata": {},
     "output_type": "display_data"
    },
    {
     "data": {
      "text/html": [
       "1"
      ],
      "text/latex": [
       "1"
      ],
      "text/markdown": [
       "1"
      ],
      "text/plain": [
       "[1] 1"
      ]
     },
     "metadata": {},
     "output_type": "display_data"
    },
    {
     "data": {
      "text/html": [
       "0.9985"
      ],
      "text/latex": [
       "0.9985"
      ],
      "text/markdown": [
       "0.9985"
      ],
      "text/plain": [
       "[1] 0.999"
      ]
     },
     "metadata": {},
     "output_type": "display_data"
    },
    {
     "data": {
      "text/html": [
       "1"
      ],
      "text/latex": [
       "1"
      ],
      "text/markdown": [
       "1"
      ],
      "text/plain": [
       "[1] 1"
      ]
     },
     "metadata": {},
     "output_type": "display_data"
    }
   ],
   "source": [
    "#find the probabilities of the parameters being positive\n",
    "\n",
    "mean(e$a0 > 0)\n",
    "probsGT0(e$b0)\n",
    "\n",
    "mean(e$a1 > 0)\n",
    "probsGT0(e$b1)\n",
    "\n",
    "mean(e$b0[,5] < e$b0[,1])\n",
    "mean(e$b0[,5] < e$b0[,2])\n",
    "mean(e$b0[,5] < e$b0[,3])\n",
    "mean(e$b0[,5] < e$b0[,4])\n",
    "\n",
    "mean(e$b0[,3] > e$b0[,1])\n",
    "mean(e$b0[,3] > e$b0[,2])\n",
    "mean(e$b0[,3] > e$b0[,4])\n",
    "mean(e$b0[,3] > e$b0[,5])"
   ]
  },
  {
   "cell_type": "code",
   "execution_count": 25,
   "id": "cdc0e3e0",
   "metadata": {
    "execution": {
     "iopub.execute_input": "2023-12-09T17:03:51.124168Z",
     "iopub.status.busy": "2023-12-09T17:03:51.122387Z",
     "iopub.status.idle": "2023-12-09T17:03:51.214374Z",
     "shell.execute_reply": "2023-12-09T17:03:51.212014Z"
    },
    "papermill": {
     "duration": 0.117636,
     "end_time": "2023-12-09T17:03:51.217525",
     "exception": false,
     "start_time": "2023-12-09T17:03:51.099889",
     "status": "completed"
    },
    "tags": []
   },
   "outputs": [
    {
     "name": "stderr",
     "output_type": "stream",
     "text": [
      "This is loo version 2.6.0\n",
      "\n",
      "- Online documentation and vignettes at mc-stan.org/loo\n",
      "\n",
      "- As of v2.0.0 loo defaults to 1 core but we recommend using as many as possible. Use the 'cores' argument or set options(mc.cores = NUM_CORES) for an entire session. \n",
      "\n",
      "\n",
      "Attaching package: ‘loo’\n",
      "\n",
      "\n",
      "The following object is masked from ‘package:rstan’:\n",
      "\n",
      "    loo\n",
      "\n",
      "\n"
     ]
    }
   ],
   "source": [
    "loo_summary <- function(fit, name) {\n",
    "\n",
    "  log_lik <- extract_log_lik(fit, merge_chains = FALSE,parameter_name=name)\n",
    "  r_eff <- relative_eff(exp(log_lik))\n",
    "  loo <- loo(log_lik, r_eff = r_eff, cores = 2)\n",
    "  return(loo)\n",
    "}\n",
    "\n",
    "library(loo)"
   ]
  },
  {
   "cell_type": "code",
   "execution_count": 26,
   "id": "4324ce53",
   "metadata": {
    "execution": {
     "iopub.execute_input": "2023-12-09T17:03:51.264316Z",
     "iopub.status.busy": "2023-12-09T17:03:51.261760Z",
     "iopub.status.idle": "2023-12-09T17:03:55.567774Z",
     "shell.execute_reply": "2023-12-09T17:03:55.564982Z"
    },
    "papermill": {
     "duration": 4.333484,
     "end_time": "2023-12-09T17:03:55.570982",
     "exception": false,
     "start_time": "2023-12-09T17:03:51.237498",
     "status": "completed"
    },
    "tags": []
   },
   "outputs": [
    {
     "name": "stderr",
     "output_type": "stream",
     "text": [
      "Warning message:\n",
      "“Some Pareto k diagnostic values are too high. See help('pareto-k-diagnostic') for details.\n",
      "”\n"
     ]
    }
   ],
   "source": [
    "loo0 <- loo_summary(fit,\"log_lik_accept0\")\n",
    "loo1 <- loo_summary(fit,\"log_lik_accept1\")"
   ]
  },
  {
   "cell_type": "code",
   "execution_count": 27,
   "id": "d6e62571",
   "metadata": {
    "execution": {
     "iopub.execute_input": "2023-12-09T17:03:55.617709Z",
     "iopub.status.busy": "2023-12-09T17:03:55.615604Z",
     "iopub.status.idle": "2023-12-09T17:03:55.647299Z",
     "shell.execute_reply": "2023-12-09T17:03:55.644658Z"
    },
    "papermill": {
     "duration": 0.059057,
     "end_time": "2023-12-09T17:03:55.650511",
     "exception": false,
     "start_time": "2023-12-09T17:03:55.591454",
     "status": "completed"
    },
    "tags": []
   },
   "outputs": [
    {
     "data": {
      "text/plain": [
       "\n",
       "Computed from 4000 by 418 log-likelihood matrix\n",
       "\n",
       "         Estimate   SE\n",
       "elpd_loo   -202.7 11.5\n",
       "p_loo         5.4  0.6\n",
       "looic       405.4 23.0\n",
       "------\n",
       "Monte Carlo SE of elpd_loo is 0.0.\n",
       "\n",
       "All Pareto k estimates are good (k < 0.5).\n",
       "See help('pareto-k-diagnostic') for details."
      ]
     },
     "metadata": {},
     "output_type": "display_data"
    }
   ],
   "source": [
    "loo0"
   ]
  },
  {
   "cell_type": "code",
   "execution_count": 28,
   "id": "99fd26e5",
   "metadata": {
    "execution": {
     "iopub.execute_input": "2023-12-09T17:03:55.696762Z",
     "iopub.status.busy": "2023-12-09T17:03:55.694668Z",
     "iopub.status.idle": "2023-12-09T17:03:55.724490Z",
     "shell.execute_reply": "2023-12-09T17:03:55.722036Z"
    },
    "papermill": {
     "duration": 0.056697,
     "end_time": "2023-12-09T17:03:55.727457",
     "exception": false,
     "start_time": "2023-12-09T17:03:55.670760",
     "status": "completed"
    },
    "tags": []
   },
   "outputs": [
    {
     "data": {
      "text/plain": [
       "\n",
       "Computed from 4000 by 418 log-likelihood matrix\n",
       "\n",
       "         Estimate   SE\n",
       "elpd_loo   -190.1 11.6\n",
       "p_loo         7.5  2.2\n",
       "looic       380.2 23.3\n",
       "------\n",
       "Monte Carlo SE of elpd_loo is NA.\n",
       "\n",
       "Pareto k diagnostic values:\n",
       "                         Count Pct.    Min. n_eff\n",
       "(-Inf, 0.5]   (good)     415   99.3%   1338      \n",
       " (0.5, 0.7]   (ok)         2    0.5%   1394      \n",
       "   (0.7, 1]   (bad)        1    0.2%   93        \n",
       "   (1, Inf)   (very bad)   0    0.0%   <NA>      \n",
       "See help('pareto-k-diagnostic') for details."
      ]
     },
     "metadata": {},
     "output_type": "display_data"
    }
   ],
   "source": [
    "loo1\n",
    "#showing that there is one data point with a bad diagnostic"
   ]
  },
  {
   "cell_type": "code",
   "execution_count": 29,
   "id": "2c141a00",
   "metadata": {
    "execution": {
     "iopub.execute_input": "2023-12-09T17:03:55.773746Z",
     "iopub.status.busy": "2023-12-09T17:03:55.771592Z",
     "iopub.status.idle": "2023-12-09T17:03:55.790844Z",
     "shell.execute_reply": "2023-12-09T17:03:55.788401Z"
    },
    "papermill": {
     "duration": 0.045852,
     "end_time": "2023-12-09T17:03:55.794138",
     "exception": false,
     "start_time": "2023-12-09T17:03:55.748286",
     "status": "completed"
    },
    "tags": []
   },
   "outputs": [],
   "source": [
    "extract_until_minus1 <- function(row) {\n",
    "  return(row[seq_len(which(row == -1)[1] - 1)])\n",
    "}"
   ]
  },
  {
   "cell_type": "code",
   "execution_count": 30,
   "id": "b52eda13",
   "metadata": {
    "execution": {
     "iopub.execute_input": "2023-12-09T17:03:55.840686Z",
     "iopub.status.busy": "2023-12-09T17:03:55.838560Z",
     "iopub.status.idle": "2023-12-09T17:03:55.866343Z",
     "shell.execute_reply": "2023-12-09T17:03:55.863597Z"
    },
    "papermill": {
     "duration": 0.054805,
     "end_time": "2023-12-09T17:03:55.869683",
     "exception": false,
     "start_time": "2023-12-09T17:03:55.814878",
     "status": "completed"
    },
    "tags": []
   },
   "outputs": [],
   "source": [
    "#turn into a list\n",
    "configList <- apply(config, MARGIN=1, FUN=extract_until_minus1)"
   ]
  },
  {
   "cell_type": "code",
   "execution_count": 31,
   "id": "2fbe22e0",
   "metadata": {
    "execution": {
     "iopub.execute_input": "2023-12-09T17:03:55.915551Z",
     "iopub.status.busy": "2023-12-09T17:03:55.913374Z",
     "iopub.status.idle": "2023-12-09T17:03:55.963871Z",
     "shell.execute_reply": "2023-12-09T17:03:55.960804Z"
    },
    "papermill": {
     "duration": 0.077381,
     "end_time": "2023-12-09T17:03:55.967429",
     "exception": false,
     "start_time": "2023-12-09T17:03:55.890048",
     "status": "completed"
    },
    "tags": []
   },
   "outputs": [
    {
     "data": {
      "text/html": [
       "<style>\n",
       ".list-inline {list-style: none; margin:0; padding: 0}\n",
       ".list-inline>li {display: inline-block}\n",
       ".list-inline>li:not(:last-child)::after {content: \"\\00b7\"; padding: 0 .5ex}\n",
       "</style>\n",
       "<ol class=list-inline><li>10</li><li>10</li><li>10</li><li>14</li><li>14</li><li>14</li><li>14</li><li>14</li><li>30</li><li>30</li><li>30</li><li>30</li><li>30</li><li>30</li><li>30</li></ol>\n"
      ],
      "text/latex": [
       "\\begin{enumerate*}\n",
       "\\item 10\n",
       "\\item 10\n",
       "\\item 10\n",
       "\\item 14\n",
       "\\item 14\n",
       "\\item 14\n",
       "\\item 14\n",
       "\\item 14\n",
       "\\item 30\n",
       "\\item 30\n",
       "\\item 30\n",
       "\\item 30\n",
       "\\item 30\n",
       "\\item 30\n",
       "\\item 30\n",
       "\\end{enumerate*}\n"
      ],
      "text/markdown": [
       "1. 10\n",
       "2. 10\n",
       "3. 10\n",
       "4. 14\n",
       "5. 14\n",
       "6. 14\n",
       "7. 14\n",
       "8. 14\n",
       "9. 30\n",
       "10. 30\n",
       "11. 30\n",
       "12. 30\n",
       "13. 30\n",
       "14. 30\n",
       "15. 30\n",
       "\n",
       "\n"
      ],
      "text/plain": [
       " [1] 10 10 10 14 14 14 14 14 30 30 30 30 30 30 30"
      ]
     },
     "metadata": {},
     "output_type": "display_data"
    },
    {
     "data": {
      "text/html": [
       "15"
      ],
      "text/latex": [
       "15"
      ],
      "text/markdown": [
       "15"
      ],
      "text/plain": [
       "[1] 15"
      ]
     },
     "metadata": {},
     "output_type": "display_data"
    },
    {
     "data": {
      "text/html": [
       "30"
      ],
      "text/latex": [
       "30"
      ],
      "text/markdown": [
       "30"
      ],
      "text/plain": [
       "[1] 30"
      ]
     },
     "metadata": {},
     "output_type": "display_data"
    },
    {
     "data": {
      "text/html": [
       "30"
      ],
      "text/latex": [
       "30"
      ],
      "text/markdown": [
       "30"
      ],
      "text/plain": [
       "[1] 30"
      ]
     },
     "metadata": {},
     "output_type": "display_data"
    }
   ],
   "source": [
    "#to get a row of the list use\n",
    "configList[[1]]\n",
    "length(configList[[1]])\n",
    "#to get the last element\n",
    "configList[[1]][length(configList[[1]])]\n",
    "tail(configList[[1]],n=1)"
   ]
  },
  {
   "cell_type": "code",
   "execution_count": 32,
   "id": "29c01a6a",
   "metadata": {
    "execution": {
     "iopub.execute_input": "2023-12-09T17:03:56.015648Z",
     "iopub.status.busy": "2023-12-09T17:03:56.013291Z",
     "iopub.status.idle": "2023-12-09T17:03:56.046904Z",
     "shell.execute_reply": "2023-12-09T17:03:56.044157Z"
    },
    "papermill": {
     "duration": 0.061541,
     "end_time": "2023-12-09T17:03:56.050468",
     "exception": false,
     "start_time": "2023-12-09T17:03:55.988927",
     "status": "completed"
    },
    "tags": []
   },
   "outputs": [],
   "source": [
    "#transform each element to binary\n",
    "configBinary <- lapply(configList, function(sublist) {\n",
    "  lapply(sublist, intToBinary)\n",
    "})"
   ]
  },
  {
   "cell_type": "code",
   "execution_count": 33,
   "id": "9b235a94",
   "metadata": {
    "execution": {
     "iopub.execute_input": "2023-12-09T17:03:56.098637Z",
     "iopub.status.busy": "2023-12-09T17:03:56.096554Z",
     "iopub.status.idle": "2023-12-09T17:03:56.131663Z",
     "shell.execute_reply": "2023-12-09T17:03:56.128306Z"
    },
    "papermill": {
     "duration": 0.06354,
     "end_time": "2023-12-09T17:03:56.135525",
     "exception": false,
     "start_time": "2023-12-09T17:03:56.071985",
     "status": "completed"
    },
    "tags": []
   },
   "outputs": [
    {
     "name": "stdout",
     "output_type": "stream",
     "text": [
      "1010  1010  1010  1110  1110  1110  1110  1110  11110  11110  11110  11110  11110  11110  11110  \n",
      "101  1101  1100  100  101  1101  1101  1111  1110  1110  1111  1111  1110  1110  1111  1111  1110  \n",
      "1  101  101  100  1100  1100  1110  1110  1110  1110  1110  110  110  110  110  110  \n",
      "101  101  101  101  101  101  101  101  101  101  101  101  101  101  \n",
      "11100  11100  11101  11111  11111  11111  11111  11111  11111  11111  11111  \n",
      "1111  1111  1110  1110  1111  1111  1110  1110  1110  1110  1110  1110  1111  1111  1110  1110  1110  1110  1111  1111  1110  1010  1010  1110  \n",
      "1010  1110  1111  1111  1111  1111  1111  1111  1111  1111  1111  \n",
      "10100  10110  10110  10110  10110  10110  10110  10110  10110  10110  10110  \n",
      "1101  1101  1111  1111  1111  1111  111  110  110  110  110  110  10110  10110  10110  10110  10110  10110  10110  10110  10110  \n",
      "11111  10111  10110  10110  10110  10110  10110  10110  10110  10110  10110  \n",
      "1001  1001  1001  1101  1100  1100  1110  1110  1110  1110  110  111  111  111  111  111  111  10111  10111  10111  10111  10111  10111  10111  \n",
      "1  101  100  110  110  110  110  1110  1110  1110  1110  1110  11110  11110  11110  11110  11110  \n",
      "10000  10100  10101  11101  11101  11111  11111  11111  11111  11111  1111  1110  1110  1111  1111  1111  1111  1111  11111  11111  11111  11111  11111  11111  \n",
      "10010  10010  10011  10011  11011  11011  11011  11011  11111  11111  11111  11111  11111  11111  11111  11110  11110  11110  11110  11110  11110  11111  \n",
      "110  110  110  110  1110  1111  1111  1111  1111  1111  1111  1111  1111  1111  \n",
      "10  110  111  111  111  111  1111  1110  1110  1110  1110  1110  1110  11110  11110  11110  11110  11110  11110  11110  11110  11110  \n",
      "11110  11110  11111  11111  11110  11110  11111  11111  11111  11111  10111  10111  10111  10011  10010  10010  10011  10111  10111  10111  11111  11111  11111  \n",
      "11111  11111  11111  11111  10111  10111  10111  10111  11111  11111  11111  1111  1111  1111  1111  1111  1111  11111  11111  11111  11111  11111  \n",
      "0  10  11  11  10  10  10  110  110  110  110  110  110  10110  10110  10110  10110  10110  11110  11110  11110  \n",
      "1011  1011  1011  1011  1011  1111  1110  1110  1110  1110  1110  1110  1110  1110  1110  \n",
      "10  1010  1011  1011  1010  10  10  1010  1010  1010  1010  1110  1111  1111  1110  1110  1110  1110  1110  \n",
      "10111  10111  10101  10100  11100  11101  11111  11110  11110  11110  11110  11110  11110  11110  11110  11110  \n",
      "10011  10011  10111  10110  11110  11110  11110  11110  11110  11110  11110  11110  11110  \n",
      "1011  1011  1010  1010  1010  1110  1110  1110  1110  1110  1110  11110  11110  11110  11110  11110  11110  11110  11110  11110  \n",
      "1100  1100  1101  1101  1100  1100  1100  1110  1110  1110  1110  1110  11110  11110  11110  11110  11110  11110  11110  11110  \n"
     ]
    }
   ],
   "source": [
    "#print out by row\n",
    "for(i in 1:m){\n",
    "  for(j in configBinary[[i]]){\n",
    "    cat(j,' ')\n",
    "  }\n",
    "  cat(\"\\n\")\n",
    "}"
   ]
  },
  {
   "cell_type": "code",
   "execution_count": 34,
   "id": "13828655",
   "metadata": {
    "execution": {
     "iopub.execute_input": "2023-12-09T17:03:56.184811Z",
     "iopub.status.busy": "2023-12-09T17:03:56.182600Z",
     "iopub.status.idle": "2023-12-09T17:03:56.222530Z",
     "shell.execute_reply": "2023-12-09T17:03:56.220072Z"
    },
    "papermill": {
     "duration": 0.06891,
     "end_time": "2023-12-09T17:03:56.226199",
     "exception": false,
     "start_time": "2023-12-09T17:03:56.157289",
     "status": "completed"
    },
    "tags": []
   },
   "outputs": [
    {
     "data": {
      "text/plain": [
       "last\n",
       " 5  6 14 15 22 23 30 31 \n",
       " 1  1  4  2  3  1  8  5 "
      ]
     },
     "metadata": {},
     "output_type": "display_data"
    }
   ],
   "source": [
    "#this gets the last configurations for each person\n",
    "last <- vector()\n",
    "for(i in 1:m){\n",
    "  last[i] <- tail(configList[[i]],n=1)\n",
    "}\n",
    "table(last)\n",
    "tab_last <- table(last)"
   ]
  },
  {
   "cell_type": "code",
   "execution_count": 35,
   "id": "13d2bfec",
   "metadata": {
    "execution": {
     "iopub.execute_input": "2023-12-09T17:03:56.274885Z",
     "iopub.status.busy": "2023-12-09T17:03:56.272679Z",
     "iopub.status.idle": "2023-12-09T17:03:56.324998Z",
     "shell.execute_reply": "2023-12-09T17:03:56.322276Z"
    },
    "papermill": {
     "duration": 0.080808,
     "end_time": "2023-12-09T17:03:56.328589",
     "exception": false,
     "start_time": "2023-12-09T17:03:56.247781",
     "status": "completed"
    },
    "tags": []
   },
   "outputs": [
    {
     "name": "stdout",
     "output_type": "stream",
     "text": [
      "[1] \"101\"\n",
      "[1] \"110\"\n",
      "[1] \"1110\"\n",
      "[1] \"1111\"\n",
      "[1] \"10110\"\n",
      "[1] \"10111\"\n",
      "[1] \"11110\"\n",
      "[1] \"11111\"\n",
      "[1] 5\n",
      "[1] 6\n",
      "[1] 14\n",
      "[1] 15\n",
      "[1] 22\n",
      "[1] 23\n",
      "[1] 30\n",
      "[1] 31\n",
      "[1] 1\n",
      "[1] 1\n",
      "[1] 4\n",
      "[1] 2\n",
      "[1] 3\n",
      "[1] 1\n",
      "[1] 8\n",
      "[1] 5\n"
     ]
    }
   ],
   "source": [
    "# Convert the table to a 2x8 matrix\n",
    "matrix_last <- matrix(c(as.numeric(names(tab_last)), as.numeric(tab_last)), nrow = 2, byrow = TRUE)\n",
    "for(i in matrix_last[1,]){\n",
    "  print(intToBinary(i))\n",
    "}\n",
    "for(i in matrix_last[1,]){\n",
    "  print(i)\n",
    "}\n",
    "for(i in matrix_last[2,]){\n",
    "  print(i)\n",
    "}\n"
   ]
  },
  {
   "cell_type": "code",
   "execution_count": 36,
   "id": "ed1125d5",
   "metadata": {
    "execution": {
     "iopub.execute_input": "2023-12-09T17:03:56.377923Z",
     "iopub.status.busy": "2023-12-09T17:03:56.375640Z",
     "iopub.status.idle": "2023-12-09T17:03:56.411029Z",
     "shell.execute_reply": "2023-12-09T17:03:56.408449Z"
    },
    "papermill": {
     "duration": 0.064485,
     "end_time": "2023-12-09T17:03:56.415081",
     "exception": false,
     "start_time": "2023-12-09T17:03:56.350596",
     "status": "completed"
    },
    "tags": []
   },
   "outputs": [],
   "source": [
    "#find the occurences of each factor in the last configurations\n",
    "#vision, parallax, sound, resolution, colour\n",
    "\n",
    "numoccurences <- vector(mode=\"integer\",length=5)\n",
    "for(f in 1:5){#each factor\n",
    "  for(i in 1:m){#each person\n",
    "    if(check_bit(last[i],f)) {\n",
    "      numoccurences[f] <- numoccurences[f] + 1\n",
    "    }\n",
    "  }\n",
    "}"
   ]
  },
  {
   "cell_type": "code",
   "execution_count": 37,
   "id": "9cb36161",
   "metadata": {
    "execution": {
     "iopub.execute_input": "2023-12-09T17:03:56.464393Z",
     "iopub.status.busy": "2023-12-09T17:03:56.462100Z",
     "iopub.status.idle": "2023-12-09T17:03:56.488579Z",
     "shell.execute_reply": "2023-12-09T17:03:56.485528Z"
    },
    "papermill": {
     "duration": 0.055038,
     "end_time": "2023-12-09T17:03:56.492098",
     "exception": false,
     "start_time": "2023-12-09T17:03:56.437060",
     "status": "completed"
    },
    "tags": []
   },
   "outputs": [
    {
     "data": {
      "text/html": [
       "<style>\n",
       ".list-inline {list-style: none; margin:0; padding: 0}\n",
       ".list-inline>li {display: inline-block}\n",
       ".list-inline>li:not(:last-child)::after {content: \"\\00b7\"; padding: 0 .5ex}\n",
       "</style>\n",
       "<ol class=list-inline><li>17</li><li>19</li><li>25</li><li>24</li><li>9</li></ol>\n"
      ],
      "text/latex": [
       "\\begin{enumerate*}\n",
       "\\item 17\n",
       "\\item 19\n",
       "\\item 25\n",
       "\\item 24\n",
       "\\item 9\n",
       "\\end{enumerate*}\n"
      ],
      "text/markdown": [
       "1. 17\n",
       "2. 19\n",
       "3. 25\n",
       "4. 24\n",
       "5. 9\n",
       "\n",
       "\n"
      ],
      "text/plain": [
       "[1] 17 19 25 24  9"
      ]
     },
     "metadata": {},
     "output_type": "display_data"
    }
   ],
   "source": [
    "numoccurences"
   ]
  },
  {
   "cell_type": "code",
   "execution_count": 38,
   "id": "81ece54b",
   "metadata": {
    "execution": {
     "iopub.execute_input": "2023-12-09T17:03:56.542969Z",
     "iopub.status.busy": "2023-12-09T17:03:56.540675Z",
     "iopub.status.idle": "2023-12-09T17:03:56.573685Z",
     "shell.execute_reply": "2023-12-09T17:03:56.570979Z"
    },
    "papermill": {
     "duration": 0.062718,
     "end_time": "2023-12-09T17:03:56.577847",
     "exception": false,
     "start_time": "2023-12-09T17:03:56.515129",
     "status": "completed"
    },
    "tags": []
   },
   "outputs": [],
   "source": [
    "#Markov Chain analysis\n",
    "#P is the counts of the transitions matrix\n",
    "#note that for some configurations never visited all entries are 0\n",
    "for(i in 1:32){\n",
    "  s <- sum(P[i,])\n",
    "  if(s > 0){\n",
    "    P[i,] <- P[i,]/s\n",
    "  }\n",
    "}"
   ]
  },
  {
   "cell_type": "code",
   "execution_count": 39,
   "id": "c3557659",
   "metadata": {
    "execution": {
     "iopub.execute_input": "2023-12-09T17:03:56.628271Z",
     "iopub.status.busy": "2023-12-09T17:03:56.625864Z",
     "iopub.status.idle": "2023-12-09T17:03:56.649165Z",
     "shell.execute_reply": "2023-12-09T17:03:56.646488Z"
    },
    "papermill": {
     "duration": 0.053183,
     "end_time": "2023-12-09T17:03:56.653550",
     "exception": false,
     "start_time": "2023-12-09T17:03:56.600367",
     "status": "completed"
    },
    "tags": []
   },
   "outputs": [],
   "source": [
    "eliminate_unreachable_states <- function(P) {\n",
    "  # Find rows with all zeros (no transitions from these states)\n",
    "  no_outgoing <- apply(P, 1, function(row) all(row == 0))\n",
    "  \n",
    "  # Find columns with all zeros (no transitions to these states)\n",
    "  no_incoming <- apply(P, 2, function(col) all(col == 0))\n",
    "  \n",
    "  # Identify states to be eliminated\n",
    "  to_eliminate <- no_outgoing & no_incoming\n",
    "  \n",
    "  # Eliminate states with no incoming or outgoing transitions\n",
    "  P_new <- P[!to_eliminate, !to_eliminate]\n",
    "  \n",
    "  ind <- seq(1,32,1) #in order to idenfity the states to be eliminated\n",
    "  \n",
    "  # Return the modified transition matrix\n",
    "  return(list(P_new = P_new, to_eliminate = ind[to_eliminate]))\n",
    "}\n"
   ]
  },
  {
   "cell_type": "code",
   "execution_count": 40,
   "id": "52b9948e",
   "metadata": {
    "execution": {
     "iopub.execute_input": "2023-12-09T17:03:56.703761Z",
     "iopub.status.busy": "2023-12-09T17:03:56.701458Z",
     "iopub.status.idle": "2023-12-09T17:03:56.746191Z",
     "shell.execute_reply": "2023-12-09T17:03:56.743639Z"
    },
    "papermill": {
     "duration": 0.074001,
     "end_time": "2023-12-09T17:03:56.750151",
     "exception": false,
     "start_time": "2023-12-09T17:03:56.676150",
     "status": "completed"
    },
    "tags": []
   },
   "outputs": [],
   "source": [
    "reducedMatrix <- eliminate_unreachable_states(P)\n",
    "#the new matrix\n",
    "Pnew <- reducedMatrix$P_new\n",
    "eliminatedStates <- reducedMatrix$to_eliminate"
   ]
  },
  {
   "cell_type": "code",
   "execution_count": 41,
   "id": "3ccbb0d8",
   "metadata": {
    "execution": {
     "iopub.execute_input": "2023-12-09T17:03:56.800437Z",
     "iopub.status.busy": "2023-12-09T17:03:56.798161Z",
     "iopub.status.idle": "2023-12-09T17:03:56.824790Z",
     "shell.execute_reply": "2023-12-09T17:03:56.821814Z"
    },
    "papermill": {
     "duration": 0.055781,
     "end_time": "2023-12-09T17:03:56.828383",
     "exception": false,
     "start_time": "2023-12-09T17:03:56.772602",
     "status": "completed"
    },
    "tags": []
   },
   "outputs": [
    {
     "data": {
      "text/html": [
       "<style>\n",
       ".list-inline {list-style: none; margin:0; padding: 0}\n",
       ".list-inline>li {display: inline-block}\n",
       ".list-inline>li:not(:last-child)::after {content: \"\\00b7\"; padding: 0 .5ex}\n",
       "</style>\n",
       "<ol class=list-inline><li>9</li><li>18</li><li>25</li><li>26</li><li>27</li></ol>\n"
      ],
      "text/latex": [
       "\\begin{enumerate*}\n",
       "\\item 9\n",
       "\\item 18\n",
       "\\item 25\n",
       "\\item 26\n",
       "\\item 27\n",
       "\\end{enumerate*}\n"
      ],
      "text/markdown": [
       "1. 9\n",
       "2. 18\n",
       "3. 25\n",
       "4. 26\n",
       "5. 27\n",
       "\n",
       "\n"
      ],
      "text/plain": [
       "[1]  9 18 25 26 27"
      ]
     },
     "metadata": {},
     "output_type": "display_data"
    }
   ],
   "source": [
    "eliminatedStates"
   ]
  },
  {
   "cell_type": "code",
   "execution_count": 42,
   "id": "896cdbbb",
   "metadata": {
    "execution": {
     "iopub.execute_input": "2023-12-09T17:03:56.879683Z",
     "iopub.status.busy": "2023-12-09T17:03:56.877543Z",
     "iopub.status.idle": "2023-12-09T17:03:56.914516Z",
     "shell.execute_reply": "2023-12-09T17:03:56.911729Z"
    },
    "papermill": {
     "duration": 0.066552,
     "end_time": "2023-12-09T17:03:56.918245",
     "exception": false,
     "start_time": "2023-12-09T17:03:56.851693",
     "status": "completed"
    },
    "tags": []
   },
   "outputs": [
    {
     "name": "stdout",
     "output_type": "stream",
     "text": [
      "[1] \"1000\"\n",
      "[1] \"10001\"\n",
      "[1] \"11000\"\n",
      "[1] \"11001\"\n",
      "[1] \"11010\"\n",
      "[1] 8\n",
      "[1] 17\n",
      "[1] 24\n",
      "[1] 25\n",
      "[1] 26\n"
     ]
    }
   ],
   "source": [
    "#remember that the eliminatedStates refer to indices in the P matrix, not to the list of configurations\n",
    "for(i in eliminatedStates) print(intToBinary(i-1))\n",
    "for(i in eliminatedStates) print(i-1)\n"
   ]
  },
  {
   "cell_type": "code",
   "execution_count": 43,
   "id": "cbcb9407",
   "metadata": {
    "execution": {
     "iopub.execute_input": "2023-12-09T17:03:57.002055Z",
     "iopub.status.busy": "2023-12-09T17:03:56.999377Z",
     "iopub.status.idle": "2023-12-09T17:03:57.022028Z",
     "shell.execute_reply": "2023-12-09T17:03:57.019879Z"
    },
    "papermill": {
     "duration": 0.083071,
     "end_time": "2023-12-09T17:03:57.025132",
     "exception": false,
     "start_time": "2023-12-09T17:03:56.942061",
     "status": "completed"
    },
    "tags": []
   },
   "outputs": [],
   "source": [
    "#Now I need a function that maps the new state numbers to the old\n",
    "mapping_vector <- setdiff(1:nrow(P), eliminatedStates)\n",
    "mapToOriginal <- function(newState) {\n",
    "  if (newState < 1 || newState > length(mapping_vector)) {\n",
    "    stop(\"Invalid new state number\")\n",
    "  }\n",
    "  return(mapping_vector[newState])\n",
    "}"
   ]
  },
  {
   "cell_type": "code",
   "execution_count": 44,
   "id": "5470bbc9",
   "metadata": {
    "execution": {
     "iopub.execute_input": "2023-12-09T17:03:57.076205Z",
     "iopub.status.busy": "2023-12-09T17:03:57.074239Z",
     "iopub.status.idle": "2023-12-09T17:03:57.112268Z",
     "shell.execute_reply": "2023-12-09T17:03:57.109910Z"
    },
    "papermill": {
     "duration": 0.066684,
     "end_time": "2023-12-09T17:03:57.115059",
     "exception": false,
     "start_time": "2023-12-09T17:03:57.048375",
     "status": "completed"
    },
    "tags": []
   },
   "outputs": [],
   "source": [
    "#The equilibrium vector is the eigenvector associated with the eigenvalue 1, normalized so that its elements sum to 1.\n",
    "en <- eigen(t(Pnew))"
   ]
  },
  {
   "cell_type": "code",
   "execution_count": 45,
   "id": "282bb643",
   "metadata": {
    "execution": {
     "iopub.execute_input": "2023-12-09T17:03:57.165955Z",
     "iopub.status.busy": "2023-12-09T17:03:57.164060Z",
     "iopub.status.idle": "2023-12-09T17:03:57.186878Z",
     "shell.execute_reply": "2023-12-09T17:03:57.184782Z"
    },
    "papermill": {
     "duration": 0.051261,
     "end_time": "2023-12-09T17:03:57.189734",
     "exception": false,
     "start_time": "2023-12-09T17:03:57.138473",
     "status": "completed"
    },
    "tags": []
   },
   "outputs": [],
   "source": [
    "index <- which.min(abs(en$values - 1))\n",
    "steady_state <- Re(en$vectors[,index])\n",
    "pi <- steady_state / sum(steady_state)\n"
   ]
  },
  {
   "cell_type": "code",
   "execution_count": 46,
   "id": "c4811c2e",
   "metadata": {
    "execution": {
     "iopub.execute_input": "2023-12-09T17:03:57.240690Z",
     "iopub.status.busy": "2023-12-09T17:03:57.238896Z",
     "iopub.status.idle": "2023-12-09T17:03:57.260125Z",
     "shell.execute_reply": "2023-12-09T17:03:57.257658Z"
    },
    "papermill": {
     "duration": 0.049592,
     "end_time": "2023-12-09T17:03:57.263060",
     "exception": false,
     "start_time": "2023-12-09T17:03:57.213468",
     "status": "completed"
    },
    "tags": []
   },
   "outputs": [
    {
     "name": "stdout",
     "output_type": "stream",
     "text": [
      "[1] 0\n",
      "[1] 0\n",
      "[1] 0\n",
      "[1] 0\n",
      "[1] 0\n",
      "[1] 0\n",
      "[1] 0.011\n",
      "[1] 0.008\n",
      "[1] 0\n",
      "[1] 0.002\n",
      "[1] 0\n",
      "[1] 0\n",
      "[1] 0\n",
      "[1] 0.064\n",
      "[1] 0.062\n",
      "[1] 0\n",
      "[1] 0.002\n",
      "[1] 0.005\n",
      "[1] 0.002\n",
      "[1] 0.003\n",
      "[1] 0.101\n",
      "[1] 0.051\n",
      "[1] 0.003\n",
      "[1] 0.001\n",
      "[1] 0.003\n",
      "[1] 0.488\n",
      "[1] 0.194\n"
     ]
    }
   ],
   "source": [
    "for(i in pi) print(round(i,3))"
   ]
  },
  {
   "cell_type": "code",
   "execution_count": 47,
   "id": "6b16db00",
   "metadata": {
    "execution": {
     "iopub.execute_input": "2023-12-09T17:03:57.314903Z",
     "iopub.status.busy": "2023-12-09T17:03:57.313122Z",
     "iopub.status.idle": "2023-12-09T17:03:57.328659Z",
     "shell.execute_reply": "2023-12-09T17:03:57.326615Z"
    },
    "papermill": {
     "duration": 0.044792,
     "end_time": "2023-12-09T17:03:57.331467",
     "exception": false,
     "start_time": "2023-12-09T17:03:57.286675",
     "status": "completed"
    },
    "tags": []
   },
   "outputs": [],
   "source": [
    "configs <- setConfigurations()"
   ]
  },
  {
   "cell_type": "code",
   "execution_count": 48,
   "id": "15a38354",
   "metadata": {
    "execution": {
     "iopub.execute_input": "2023-12-09T17:03:57.381980Z",
     "iopub.status.busy": "2023-12-09T17:03:57.380115Z",
     "iopub.status.idle": "2023-12-09T17:03:57.404781Z",
     "shell.execute_reply": "2023-12-09T17:03:57.402724Z"
    },
    "papermill": {
     "duration": 0.05307,
     "end_time": "2023-12-09T17:03:57.407538",
     "exception": false,
     "start_time": "2023-12-09T17:03:57.354468",
     "status": "completed"
    },
    "tags": []
   },
   "outputs": [],
   "source": [
    "ind27 <- seq(1,27)\n",
    "v <- apply(as.array(ind27),1,mapToOriginal)"
   ]
  },
  {
   "cell_type": "code",
   "execution_count": 49,
   "id": "f175682f",
   "metadata": {
    "execution": {
     "iopub.execute_input": "2023-12-09T17:03:57.457937Z",
     "iopub.status.busy": "2023-12-09T17:03:57.456143Z",
     "iopub.status.idle": "2023-12-09T17:03:57.471729Z",
     "shell.execute_reply": "2023-12-09T17:03:57.469682Z"
    },
    "papermill": {
     "duration": 0.043927,
     "end_time": "2023-12-09T17:03:57.474518",
     "exception": false,
     "start_time": "2023-12-09T17:03:57.430591",
     "status": "completed"
    },
    "tags": []
   },
   "outputs": [],
   "source": [
    "z <- configs[v]"
   ]
  },
  {
   "cell_type": "code",
   "execution_count": 50,
   "id": "f99f8557",
   "metadata": {
    "execution": {
     "iopub.execute_input": "2023-12-09T17:03:57.525582Z",
     "iopub.status.busy": "2023-12-09T17:03:57.523662Z",
     "iopub.status.idle": "2023-12-09T17:03:57.546213Z",
     "shell.execute_reply": "2023-12-09T17:03:57.543889Z"
    },
    "papermill": {
     "duration": 0.05104,
     "end_time": "2023-12-09T17:03:57.549081",
     "exception": false,
     "start_time": "2023-12-09T17:03:57.498041",
     "status": "completed"
    },
    "tags": []
   },
   "outputs": [],
   "source": [
    "# Get the ordering of 'pi' from greatest to least\n",
    "order_indices <- order(pi, decreasing = TRUE)\n",
    "\n",
    "# Apply this ordering to both 'pi' and 'v'\n",
    "sorted_pi <- pi[order_indices]\n",
    "sorted_v <- v[order_indices]\n",
    "\n",
    "# Now 'sorted_pi' and 'sorted_v' have the same ordering\n"
   ]
  },
  {
   "cell_type": "code",
   "execution_count": 51,
   "id": "076fe356",
   "metadata": {
    "execution": {
     "iopub.execute_input": "2023-12-09T17:03:57.602197Z",
     "iopub.status.busy": "2023-12-09T17:03:57.600229Z",
     "iopub.status.idle": "2023-12-09T17:03:57.624037Z",
     "shell.execute_reply": "2023-12-09T17:03:57.621443Z"
    },
    "papermill": {
     "duration": 0.053464,
     "end_time": "2023-12-09T17:03:57.626809",
     "exception": false,
     "start_time": "2023-12-09T17:03:57.573345",
     "status": "completed"
    },
    "tags": []
   },
   "outputs": [
    {
     "name": "stdout",
     "output_type": "stream",
     "text": [
      "[1] \"Stereopsis - Parallax - Spatial Audio - High Resolution - Original Color\"\n",
      "[1] \"Stereopsis - Parallax - Spatial Audio  -  High Resolution - Alternative Color\"\n",
      "[1] \"Stereopsis - No Parallax - Spatial Audio - High Resolution - Original Color\"\n",
      "[1] \"Monocular - Parallax - Spatial Audio - High Resolution - Original Color\"\n",
      "[1] \"Monocular - Parallax - Spatial Audio - High Resolution - Alternative Color\"\n",
      "[1] \"Stereopsis - No Parallax - Spatial Audio - High Resolution - Alternative Color\"\n",
      "[1] \"Monocular - No Parallax - Spatial Audio - High Resolution - Original Color\"\n",
      "[1] \"Monocular - No Parallax - Spatial Audio - High Resolution - Alternative Color\"\n",
      "[1] \"Stereopsis - No Parallax - Mono Audio High Resolution - Alternative Color\"\n",
      "[1] \"Stereopsis - Parallax - Mono Audio - High Resolution - Alternative Color\"\n",
      "[1] \"Stereopsis - No Parallax - Spatial Audio - Low Resolution - Alternative Color\"\n",
      "[1] \"Stereopsis - Parallax - Spatial Audio - Low Resolution - Alternative Color\"\n",
      "[1] \"Monocular - Parallax - Mono Audio - High Resolution - Original Color\"\n",
      "[1] \"Stereopsis - No Parallax - Mono Audio - High Resolution - Original Color\"\n",
      "[1] \"Stereopsis - No Parallax - Spatial Audio - Low Resolution Original Color\"\n",
      "[1] \"Stereopsis - Parallax - Spatial Audio - Low Resolution - Original Color\"\n",
      "[1] \"Monocular - Parallax - Mono Audio - High Resolution - Alternative Color\"\n",
      "[1] \"Monocular - No Parallax - Mono Audio - High Resolution - Original Color\"\n",
      "[1] \"configs[1] <- Monocular - No Parallax - Mono Audio - High Resolution - Alternative Color\"\n",
      "[1] \"Monocular - No Parallax - Mono Audio - Low Resolution - Original Color\"\n",
      "[1] \"Monocular - No Parallax - Mono Audio - Low Resolution - Alternative Color\"\n",
      "[1] \"Monocular - Parallax - Mono Audio - Low Resolution - Alternative Color\"\n",
      "[1] \"Stereopsis - No Parallax - Mono Audio - Low Resolution - Original Color\"\n",
      "[1] \"Monocular - Parallax - Spatial Audio - Low Resolution - Alternative Color\"\n",
      "[1] \"Monocular - No Parallax - Spatial Audio - Low Resolution - Original Color\"\n",
      "[1] \"Monocular - No Parallax - Spatial Audio - Low Resolution - Alternative Color\"\n",
      "[1] \"Monocular - Parallax - Spatial Audio - Low Resolution - Original Color\"\n"
     ]
    }
   ],
   "source": [
    "#this gives the output that corresponds to Table 7\n",
    "for(i in configs[sorted_v]) print(i)"
   ]
  }
 ],
 "metadata": {
  "kaggle": {
   "accelerator": "none",
   "dataSources": [
    {
     "datasetId": 4136149,
     "sourceId": 7161143,
     "sourceType": "datasetVersion"
    }
   ],
   "dockerImageVersionId": 30618,
   "isGpuEnabled": false,
   "isInternetEnabled": true,
   "language": "r",
   "sourceType": "notebook"
  },
  "kernelspec": {
   "display_name": "R",
   "language": "R",
   "name": "ir"
  },
  "language_info": {
   "codemirror_mode": "r",
   "file_extension": ".r",
   "mimetype": "text/x-r-source",
   "name": "R",
   "pygments_lexer": "r",
   "version": "4.0.5"
  },
  "papermill": {
   "default_parameters": {},
   "duration": 205.272384,
   "end_time": "2023-12-09T17:03:57.976005",
   "environment_variables": {},
   "exception": null,
   "input_path": "__notebook__.ipynb",
   "output_path": "__notebook__.ipynb",
   "parameters": {},
   "start_time": "2023-12-09T17:00:32.703621",
   "version": "2.5.0"
  }
 },
 "nbformat": 4,
 "nbformat_minor": 5
}
